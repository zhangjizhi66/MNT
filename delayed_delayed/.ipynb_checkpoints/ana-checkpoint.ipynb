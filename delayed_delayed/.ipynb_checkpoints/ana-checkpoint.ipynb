{
 "cells": [
  {
   "cell_type": "code",
   "execution_count": 2,
   "metadata": {},
   "outputs": [],
   "source": [
    "TFile *ipf = new TFile(\"Gdd_0100_0101.root\");\n",
    "TTree *tree = (TTree*)ipf->Get(\"tree\");"
   ]
  },
  {
   "cell_type": "code",
   "execution_count": 3,
   "metadata": {},
   "outputs": [
    {
     "name": "stdout",
     "output_type": "stream",
     "text": [
      "******************************************************************************\n",
      "*Tree    :tree      : tree                                                   *\n",
      "*Entries :  3249000 : Total =        32583004 bytes  File  Size =   15010211 *\n",
      "*        :          : Tree compression factor =   2.17                       *\n",
      "******************************************************************************\n",
      "*Br    0 :nd        : ngam/S                                                 *\n",
      "*Entries :  3249000 : Total  Size=    6516451 bytes  File Size  =     576692 *\n",
      "*Baskets :      204 : Basket Size=      32000 bytes  Compression=  11.29     *\n",
      "*............................................................................*\n",
      "*Br    1 :ex        : ex/S                                                   *\n",
      "*Entries :  3249000 : Total  Size=    6516445 bytes  File Size  =    3657013 *\n",
      "*Baskets :      204 : Basket Size=      32000 bytes  Compression=   1.78     *\n",
      "*............................................................................*\n",
      "*Br    2 :ey        : ey/S                                                   *\n",
      "*Entries :  3249000 : Total  Size=    6516445 bytes  File Size  =    3949760 *\n",
      "*Baskets :      204 : Basket Size=      32000 bytes  Compression=   1.65     *\n",
      "*............................................................................*\n",
      "*Br    3 :dtx       : dtx/S                                                  *\n",
      "*Entries :  3249000 : Total  Size=    6516653 bytes  File Size  =    3288192 *\n",
      "*Baskets :      204 : Basket Size=      32000 bytes  Compression=   1.98     *\n",
      "*............................................................................*\n",
      "*Br    4 :dty       : dty/S                                                  *\n",
      "*Entries :  3249000 : Total  Size=    6516653 bytes  File Size  =    3529620 *\n",
      "*Baskets :      204 : Basket Size=      32000 bytes  Compression=   1.85     *\n",
      "*............................................................................*\n"
     ]
    }
   ],
   "source": [
    "tree->Print();"
   ]
  },
  {
   "cell_type": "code",
   "execution_count": 4,
   "metadata": {},
   "outputs": [
    {
     "name": "stdout",
     "output_type": "stream",
     "text": [
      "************************************************************************\n",
      "*    Row   *        nd *        ex *        ey *       dtx *       dty *\n",
      "************************************************************************\n",
      "*        0 *         6 *       482 *       334 *      1471 *      1488 *\n",
      "*        1 *         6 *       482 *       405 *      1471 *      1468 *\n",
      "*        2 *         6 *       334 *       482 *      1488 *      1471 *\n",
      "*        3 *         6 *       334 *       405 *      1488 *      1468 *\n",
      "*        4 *         6 *       405 *       482 *      1468 *      1471 *\n",
      "*        5 *         6 *       405 *       334 *      1468 *      1488 *\n",
      "*        6 *         2 *      1180 *       788 *       169 *       173 *\n",
      "*        7 *         2 *       788 *      1180 *       173 *       169 *\n",
      "*        8 *         6 *       578 *       408 *       256 *       268 *\n",
      "*        9 *         6 *       578 *       137 *       256 *       250 *\n",
      "************************************************************************\n"
     ]
    }
   ],
   "source": [
    "tree->Scan(\"nd:ex:ey:dtx:dty\",\"\",\"\",10,0);"
   ]
  },
  {
   "cell_type": "code",
   "execution_count": null,
   "metadata": {},
   "outputs": [],
   "source": []
  }
 ],
 "metadata": {
  "kernelspec": {
   "display_name": "ROOT C++",
   "language": "c++",
   "name": "root"
  },
  "language_info": {
   "codemirror_mode": "text/x-c++src",
   "file_extension": ".C",
   "mimetype": " text/x-c++src",
   "name": "c++"
  }
 },
 "nbformat": 4,
 "nbformat_minor": 2
}
