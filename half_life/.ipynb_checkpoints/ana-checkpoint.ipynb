{
 "cells": [
  {
   "cell_type": "markdown",
   "metadata": {},
   "source": [
    "### 确定 136Ba 10+ isomer 的半衰期"
   ]
  },
  {
   "cell_type": "code",
   "execution_count": null,
   "metadata": {},
   "outputs": [],
   "source": [
    "TFile *ipf = new TFile(\"ROOT/Gd_100_109.root\");\n",
    "TTree *tree = (TTree*)ipf->Get(\"tree\");"
   ]
  },
  {
   "cell_type": "code",
   "execution_count": null,
   "metadata": {},
   "outputs": [],
   "source": [
    "TCut cut,cutb;\n",
    "TH1D *td,*tdb;\n",
    "TF1 *f1 = new TF1(\"f1\",\"[0]*TMath::Exp(-[1]*x)\",50,400);\n",
    "f1->SetParameter(0,5e4);\n",
    "f1->SetParameter(1,0.01);\n",
    "TCanvas *c2 = new TCanvas;"
   ]
  },
  {
   "cell_type": "code",
   "execution_count": null,
   "metadata": {},
   "outputs": [],
   "source": [
    "%jsroot on\n",
    "tree->Draw(\"e>>(1500,0,1500)\");\n",
    "c2->Draw();"
   ]
  },
  {
   "cell_type": "code",
   "execution_count": null,
   "metadata": {},
   "outputs": [],
   "source": [
    "cut = \"e>=361 && e<365\";\n",
    "cutb = \"(e>=365 && e<369)\";\n",
    "\n",
    "tree->Draw(\"t>>td363(100,0,1000)\",cut);\n",
    "TH1D *td363 = (TH1D*)gROOT->FindObject(\"td363\");\n",
    "tree->Draw(\"t>>tdb363(100,0,1000)\",cutb);\n",
    "TH1D *tdb363 = (TH1D*)gROOT->FindObject(\"tdb363\");\n",
    "td->Add(td,tdb,1,-1);\n",
    "\n",
    "td363->Fit(\"f1\",\"R\");\n",
    "td363->Draw();\n",
    "c2->SetLogy();\n",
    "c2->Draw();\n",
    "\n",
    "cout<<\"halflife: \"<<log(2)/f1->GetParameter(1)<<\" +- \"<<log(2)/f1->GetParameter(1)/f1->GetParameter(1)*f1->GetParError(1)<<\" ns\";"
   ]
  },
  {
   "cell_type": "code",
   "execution_count": null,
   "metadata": {},
   "outputs": [],
   "source": [
    "cut = \"e>=817 && e<820\";\n",
    "cutb = \"(e>=815 && e<817) || (e>=821 && e<822)\";\n",
    "\n",
    "tree->Draw(\"t>>td818(100,0,1000)\",cut);\n",
    "TH1D *td818 = (TH1D*)gROOT->FindObject(\"td818\");\n",
    "tree->Draw(\"t>>tdb818(100,0,1000)\",cutb);\n",
    "TH1D *tdb818 = (TH1D*)gROOT->FindObject(\"tdb818\");\n",
    "td->Add(td,tdb,1,-1);\n",
    "\n",
    "td818->Fit(\"f1\",\"R\");\n",
    "td818->Draw();\n",
    "c2->SetLogy();\n",
    "c2->Draw();\n",
    "\n",
    "cout<<\"halflife: \"<<log(2)/f1->GetParameter(1)<<\" +- \"<<log(2)/f1->GetParameter(1)/f1->GetParameter(1)*f1->GetParError(1)<<\" ns\";"
   ]
  },
  {
   "cell_type": "code",
   "execution_count": null,
   "metadata": {},
   "outputs": [],
   "source": [
    "cut = \"e>=786 && e<790\";\n",
    "cutb = \"(e>=778 && ed<780) || (e>=790 && e<791)\";\n",
    "\n",
    "tree->Draw(\"t>>td(100,0,1000)\",cut);\n",
    "TH1D *td787 = (TH1D*)gROOT->FindObject(\"td787\");\n",
    "tree->Draw(\"t>>tdb(100,0,1000)\",cutb);\n",
    "TH1D *tdb787 = (TH1D*)gROOT->FindObject(\"tdb787\");\n",
    "td->Add(td,tdb,1,-1);\n",
    "\n",
    "td787->Fit(\"f1\",\"R\");\n",
    "td787->Draw();\n",
    "c2->SetLogy();\n",
    "c2->Draw();\n",
    "\n",
    "cout<<\"halflife: \"<<log(2)/f1->GetParameter(1)<<\" +- \"<<log(2)/f1->GetParameter(1)/f1->GetParameter(1)*f1->GetParError(1)<<\" ns\";"
   ]
  },
  {
   "cell_type": "code",
   "execution_count": null,
   "metadata": {},
   "outputs": [],
   "source": [
    "cut = \"e>=1046 && e<1049\";\n",
    "cutb = \"(e>=1044 && e<1046) || (e>=1049 && e<1050)\";\n",
    "\n",
    "tree->Draw(\"t>>td1048(100,0,1000)\",cut);\n",
    "TH1D *td1048 = (TH1D*)gROOT->FindObject(\"td1048\");\n",
    "tree->Draw(\"t>>tdb1048(100,0,1000)\",cutb);\n",
    "TH1D *tdb1048 = (TH1D*)gROOT->FindObject(\"tdb1048\");\n",
    "td->Add(td,tdb,1,-1);\n",
    "\n",
    "td1048->Fit(\"f1\",\"R\");\n",
    "td1048->Draw();\n",
    "c2->SetLogy();\n",
    "c2->Draw();\n",
    "\n",
    "cout<<\"halflife: \"<<log(2)/f1->GetParameter(1)<<\" +- \"<<log(2)/f1->GetParameter(1)/f1->GetParameter(1)*f1->GetParError(1)<<\" ns\";"
   ]
  },
  {
   "cell_type": "code",
   "execution_count": null,
   "metadata": {},
   "outputs": [],
   "source": [
    "TH1D *td = new TH1D(\"td\",\"\",100,0,1000);\n",
    "td->Add(td,td363);\n",
    "td->Add(td,td787);\n",
    "td->Add(td,td818);\n",
    "td->Add(td,td1048);\n",
    "\n",
    "td->Fit(\"f1\",\"R\");\n",
    "td->Draw();\n",
    "c2->SetLogy();\n",
    "c2->Draw();\n",
    "\n",
    "cout<<\"halflife: \"<<log(2)/f1->GetParameter(1)<<\" +- \"<<log(2)/f1->GetParameter(1)/f1->GetParameter(1)*f1->GetParError(1)<<\" ns\";"
   ]
  }
 ],
 "metadata": {
  "kernelspec": {
   "display_name": "ROOT C++",
   "language": "c++",
   "name": "root"
  },
  "language_info": {
   "codemirror_mode": "text/x-c++src",
   "file_extension": ".C",
   "mimetype": " text/x-c++src",
   "name": "c++"
  }
 },
 "nbformat": 4,
 "nbformat_minor": 2
}
