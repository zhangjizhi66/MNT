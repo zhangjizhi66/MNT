{
 "cells": [
  {
   "cell_type": "markdown",
   "metadata": {},
   "source": [
    "### 确定 136Ba 10+ isomer 的半衰期"
   ]
  },
  {
   "cell_type": "code",
   "execution_count": 1,
   "metadata": {},
   "outputs": [
    {
     "name": "stdout",
     "output_type": "stream",
     "text": [
      "\u001b[?1034h"
     ]
    }
   ],
   "source": [
    "TFile *ipf = new TFile(\"ROOT/Gd.root\");\n",
    "TTree *tree = (TTree*)ipf->Get(\"tree\");"
   ]
  },
  {
   "cell_type": "code",
   "execution_count": 2,
   "metadata": {},
   "outputs": [],
   "source": [
    "TCut cut,cutb;\n",
    "TF1 *f1 = new TF1(\"f1\",\"[0]*TMath::Exp(-[1]*x)\",50,400);\n",
    "f1->SetParameter(0,5e4);\n",
    "f1->SetParameter(1,0.01);\n",
    "TCanvas *c2 = new TCanvas;"
   ]
  },
  {
   "cell_type": "code",
   "execution_count": 3,
   "metadata": {},
   "outputs": [
    {
     "data": {
      "text/html": [
       "\n",
       "<div id=\"root_plot_1\"\n",
       "     style=\"width: 696px; height: 472px\">\n",
       "</div>\n",
       "\n",
       "<script>\n",
       " requirejs.config({\n",
       "     paths: {\n",
       "       'JSRootCore' : 'https://root.cern.ch/js/notebook//scripts/JSRootCore',\n",
       "     }\n",
       "   });\n",
       " require(['JSRootCore'],\n",
       "     function(Core) {\n",
       "       var obj = Core.JSONR_unref({\"_typename\":\"TCanvas\",\"fUniqueID\":0,\"fBits\":53673992,\"fLineColor\":1,\"fLineStyle\":1,\"fLineWidth\":1,\"fFillColor\":0,\"fFillStyle\":1001,\"fLeftMargin\":0.1,\"fRightMargin\":0.1,\"fBottomMargin\":0.1,\"fTopMargin\":0.1,\"fXfile\":2,\"fYfile\":2,\"fAfile\":1,\"fXstat\":0.99,\"fYstat\":0.99,\"fAstat\":2,\"fFrameFillColor\":0,\"fFrameLineColor\":1,\"fFrameFillStyle\":1001,\"fFrameLineStyle\":1,\"fFrameLineWidth\":1,\"fFrameBorderSize\":1,\"fFrameBorderMode\":0,\"fX1\":-187.500013969839,\"fY1\":-58293.1168431756,\"fX2\":1687.50001396984,\"fY2\":524638.016843176,\"fXtoAbsPixelk\":69.6000541484835,\"fXtoPixelk\":69.6000541484835,\"fXtoPixel\":0.371199994468689,\"fYtoAbsPixelk\":424.800047186661,\"fYtoPixelk\":424.800047186661,\"fYtoPixel\":-8.09701134017593e-4,\"fUtoAbsPixelk\":5e-5,\"fUtoPixelk\":5e-5,\"fUtoPixel\":696,\"fVtoAbsPixelk\":472.00005,\"fVtoPixelk\":472,\"fVtoPixel\":-472,\"fAbsPixeltoXk\":-187.500013969839,\"fPixeltoXk\":-187.500013969839,\"fPixeltoX\":2.6939655573846,\"fAbsPixeltoYk\":524638.016843176,\"fPixeltoYk\":-58293.1168431756,\"fPixeltoY\":-1235.02358831854,\"fXlowNDC\":0,\"fYlowNDC\":0,\"fXUpNDC\":0,\"fYUpNDC\":0,\"fWNDC\":1,\"fHNDC\":1,\"fAbsXlowNDC\":0,\"fAbsYlowNDC\":0,\"fAbsWNDC\":1,\"fAbsHNDC\":1,\"fUxmin\":0,\"fUymin\":0,\"fUxmax\":1500,\"fUymax\":466344.9,\"fTheta\":30,\"fPhi\":30,\"fAspectRatio\":0,\"fNumber\":0,\"fTickx\":0,\"fTicky\":0,\"fLogx\":0,\"fLogy\":0,\"fLogz\":0,\"fPadPaint\":0,\"fCrosshair\":0,\"fCrosshairPos\":0,\"fBorderSize\":2,\"fBorderMode\":0,\"fModified\":false,\"fGridx\":false,\"fGridy\":false,\"fAbsCoord\":false,\"fEditable\":true,\"fFixedAspectRatio\":false,\"fPrimitives\":{\"_typename\":\"TList\",\"name\":\"TList\",\"arr\":[{\"_typename\":\"TFrame\",\"fUniqueID\":0,\"fBits\":50331656,\"fLineColor\":1,\"fLineStyle\":1,\"fLineWidth\":1,\"fFillColor\":0,\"fFillStyle\":1001,\"fX1\":0,\"fY1\":0,\"fX2\":1500,\"fY2\":466344.9,\"fBorderSize\":1,\"fBorderMode\":0},{\"_typename\":\"TH1F\",\"fUniqueID\":0,\"fBits\":50331656,\"fName\":\"\",\"fTitle\":\"e\",\"fLineColor\":602,\"fLineStyle\":1,\"fLineWidth\":1,\"fFillColor\":0,\"fFillStyle\":1001,\"fMarkerColor\":1,\"fMarkerStyle\":1,\"fMarkerSize\":1,\"fNcells\":1502,\"fXaxis\":{\"_typename\":\"TAxis\",\"fUniqueID\":0,\"fBits\":54525952,\"fName\":\"xaxis\",\"fTitle\":\"\",\"fNdivisions\":510,\"fAxisColor\":1,\"fLabelColor\":1,\"fLabelFont\":42,\"fLabelOffset\":0.005,\"fLabelSize\":0.035,\"fTickLength\":0.03,\"fTitleOffset\":1,\"fTitleSize\":0.035,\"fTitleColor\":1,\"fTitleFont\":42,\"fNbins\":1500,\"fXmin\":0,\"fXmax\":1500,\"fXbins\":[],\"fFirst\":0,\"fLast\":0,\"fBits2\":0,\"fTimeDisplay\":false,\"fTimeFormat\":\"\",\"fLabels\":null,\"fModLabs\":null},\"fYaxis\":{\"_typename\":\"TAxis\",\"fUniqueID\":0,\"fBits\":50331648,\"fName\":\"yaxis\",\"fTitle\":\"\",\"fNdivisions\":510,\"fAxisColor\":1,\"fLabelColor\":1,\"fLabelFont\":42,\"fLabelOffset\":0.005,\"fLabelSize\":0.035,\"fTickLength\":0.03,\"fTitleOffset\":0,\"fTitleSize\":0.035,\"fTitleColor\":1,\"fTitleFont\":42,\"fNbins\":1,\"fXmin\":0,\"fXmax\":1,\"fXbins\":[],\"fFirst\":0,\"fLast\":0,\"fBits2\":0,\"fTimeDisplay\":false,\"fTimeFormat\":\"\",\"fLabels\":null,\"fModLabs\":null},\"fZaxis\":{\"_typename\":\"TAxis\",\"fUniqueID\":0,\"fBits\":50331648,\"fName\":\"zaxis\",\"fTitle\":\"\",\"fNdivisions\":510,\"fAxisColor\":1,\"fLabelColor\":1,\"fLabelFont\":42,\"fLabelOffset\":0.005,\"fLabelSize\":0.035,\"fTickLength\":0.03,\"fTitleOffset\":1,\"fTitleSize\":0.035,\"fTitleColor\":1,\"fTitleFont\":42,\"fNbins\":1,\"fXmin\":0,\"fXmax\":1,\"fXbins\":[],\"fFirst\":0,\"fLast\":0,\"fBits2\":0,\"fTimeDisplay\":false,\"fTimeFormat\":\"\",\"fLabels\":null,\"fModLabs\":null},\"fBarOffset\":0,\"fBarWidth\":1000,\"fEntries\":100730617,\"fTsumw\":97404000,\"fTsumw2\":97404000,\"fTsumwx\":46155123106,\"fTsumwx2\":33155260625320,\"fMaximum\":-1111,\"fMinimum\":-1111,\"fNormFactor\":0,\"fContour\":[],\"fSumw2\":[],\"fOption\":\"\",\"fFunctions\":{\"_typename\":\"TList\",\"name\":\"TList\",\"arr\":[{\"_typename\":\"TPaveStats\",\"fUniqueID\":0,\"fBits\":50331657,\"fLineColor\":1,\"fLineStyle\":1,\"fLineWidth\":1,\"fFillColor\":0,\"fFillStyle\":1001,\"fX1\":1275.00003799796,\"fY1\":393478.515238287,\"fX2\":1650.00004917383,\"fY2\":486747.494543379,\"fX1NDC\":0.780000016093254,\"fY1NDC\":0.775000005960464,\"fX2NDC\":0.980000019073486,\"fY2NDC\":0.935000002384186,\"fBorderSize\":1,\"fInit\":1,\"fShadowColor\":1,\"fCornerRadius\":0,\"fOption\":\"brNDC\",\"fName\":\"stats\",\"fTextAngle\":0,\"fTextSize\":0,\"fTextAlign\":12,\"fTextColor\":1,\"fTextFont\":42,\"fLabel\":\"\",\"fLongest\":24,\"fMargin\":0.05,\"fLines\":{\"_typename\":\"TList\",\"name\":\"TList\",\"arr\":[{\"_typename\":\"TLatex\",\"fUniqueID\":0,\"fBits\":50331648,\"fName\":\"\",\"fTitle\":\"\",\"fTextAngle\":0,\"fTextSize\":0.0368,\"fTextAlign\":0,\"fTextColor\":0,\"fTextFont\":0,\"fX\":0,\"fY\":0,\"fLineColor\":1,\"fLineStyle\":1,\"fLineWidth\":2,\"fLimitFactorSize\":3,\"fOriginSize\":0.04},{\"_typename\":\"TLatex\",\"fUniqueID\":0,\"fBits\":50331648,\"fName\":\"\",\"fTitle\":\"Entries =   1.007306e+08\",\"fTextAngle\":0,\"fTextSize\":0,\"fTextAlign\":0,\"fTextColor\":0,\"fTextFont\":0,\"fX\":0,\"fY\":0,\"fLineColor\":1,\"fLineStyle\":1,\"fLineWidth\":2,\"fLimitFactorSize\":3,\"fOriginSize\":0.04},{\"_typename\":\"TLatex\",\"fUniqueID\":0,\"fBits\":50331648,\"fName\":\"\",\"fTitle\":\"Mean  =  473.9\",\"fTextAngle\":0,\"fTextSize\":0,\"fTextAlign\":0,\"fTextColor\":0,\"fTextFont\":0,\"fX\":0,\"fY\":0,\"fLineColor\":1,\"fLineStyle\":1,\"fLineWidth\":2,\"fLimitFactorSize\":3,\"fOriginSize\":0.04},{\"_typename\":\"TLatex\",\"fUniqueID\":0,\"fBits\":50331648,\"fName\":\"\",\"fTitle\":\"Std Dev   =  340.4\",\"fTextAngle\":0,\"fTextSize\":0,\"fTextAlign\":0,\"fTextColor\":0,\"fTextFont\":0,\"fX\":0,\"fY\":0,\"fLineColor\":1,\"fLineStyle\":1,\"fLineWidth\":2,\"fLimitFactorSize\":3,\"fOriginSize\":0.04}],\"opt\":[\"\",\"\",\"\",\"\"]},\"fOptFit\":0,\"fOptStat\":1111,\"fFitFormat\":\"5.4g\",\"fStatFormat\":\"6.4g\",\"fParent\":{\"$ref\":3}}],\"opt\":[\"brNDC\"]},\"fBufferSize\":0,\"fBuffer\":[],\"fBinStatErrOpt\":0,\"fStatOverflows\":2,\"fArray\":[0,17,1,1,2,3,5,5,3,2,6,1,5,5,2,3,0,4,1,6,3,64,114,211,336,650,1675,4508,10655,23391,48440,81058,104915,112197,111240,114115,118847,119059,114806,106229,100078,96326,93168,90550,89273,88447,88379,88530,89337,89635,88781,90460,93292,97496,104884,120814,163187,224597,251855,200398,153534,145172,151093,165176,208936,314768,420539,444138,381137,225915,147282,124208,118733,119304,117880,118603,127164,136046,127163,113529,109782,107998,104962,100434,97706,97705,98159,97819,94596,91760,91765,91650,90286,89112,88558,89168,91641,94899,96948,94768,94640,95672,97484,98470,98850,100116,102441,104170,107095,109323,112083,113177,112618,115296,121684,128042,131290,126050,122903,123990,131360,139500,140065,134493,130887,131291,131525,130417,127445,129739,136665,153477,174510,177030,167974,159669,149923,147110,146192,142602,137614,135937,135918,140352,144690,149075,147166,147839,150447,156180,155100,152403,154583,156691,155480,157844,161379,160958,165062,167580,164713,162800,164144,160080,163187,168032,171549,168829,168969,176212,173759,165058,162778,166537,171764,175826,179814,175216,168981,168733,169925,170779,176513,177854,168866,162903,162407,164735,168324,168840,166505,169395,177135,171047,161256,160575,175664,210249,212311,182452,164268,163134,167014,169026,169862,168491,164515,168988,170053,162400,158335,160290,156754,152455,157176,165992,162467,155051,155273,154488,151209,150125,152302,151986,147734,145761,145417,146507,146134,152380,156436,154561,150557,149841,147402,143590,143015,144762,144383,142340,143854,152441,170076,184943,179286,164251,154857,150345,148625,145164,143782,140862,137199,137124,139047,135725,131264,129151,129564,130342,136342,149514,156773,148982,141625,140687,136459,132814,131697,129434,131078,139348,145344,144419,140072,134065,127391,124624,125208,125405,129803,135148,134248,126587,121833,124195,126527,124330,119315,117138,119644,121494,118667,116290,113308,111230,112608,114725,118011,117833,114919,115630,118931,119433,116316,112180,109429,111347,113479,112372,110418,110776,114482,119604,128458,134625,133176,129811,127001,122796,121388,113808,109343,108370,108023,107594,109283,111772,114996,120936,125981,127841,126287,120326,113854,107785,103690,106074,108157,110925,116453,121200,116988,109560,108403,105932,100607,100586,102656,104458,108008,111653,113958,109085,105800,110165,115256,125540,143340,147502,125550,111895,118926,134547,132072,111893,100513,99088,100588,99897,95784,96306,97069,98482,97421,100409,103525,98817,93904,99003,114980,146755,172219,151134,108980,94856,95959,104713,110737,109730,107689,106250,103774,98485,99316,104577,109728,112540,111335,110957,113208,116662,117641,119166,124555,134268,154531,186753,206675,172247,136159,124302,121694,119513,112514,108914,107114,105194,103394,105232,116411,117758,98569,85942,82518,83678,86568,87545,89919,105603,127212,122000,102237,93865,89161,95917,108607,101421,80849,73657,73943,76018,78532,79228,78863,76759,77676,77921,83054,89092,83866,73624,69701,68159,68524,68620,68878,68805,68790,69243,70183,74558,87549,103939,101687,84268,71535,69816,77773,83628,87531,87779,77012,68398,66972,70202,76086,83868,85896,75164,65819,65192,68117,70360,68247,63484,62522,64862,65104,64010,63795,65499,66064,66587,66646,63393,60259,60565,62894,64203,64597,63898,62689,63128,64253,64432,64022,62496,64090,70854,84014,100985,103841,86741,71059,63261,59146,59330,60261,63333,64948,66388,63887,60625,58930,58054,58641,62799,69079,71374,67877,66560,63256,59661,59386,57618,56651,56777,58834,59849,59871,62374,61727,60256,58021,56728,57725,58951,60836,58957,57303,56521,59861,63899,64416,62855,62170,63303,63610,64858,63114,62425,72234,90121,93876,89048,87559,90259,92595,88527,83389,79700,77495,74443,71293,71429,72204,79038,91715,93952,85488,75041,69277,72519,81201,88417,86592,80156,73194,66788,64319,64719,67410,70541,78067,112152,173990,197975,185346,178993,175213,164235,148449,137707,136825,139877,131305,119167,115490,116489,113583,104149,96290,92271,90857,88749,86095,84074,81581,79564,77367,74063,71502,72679,78079,81237,77303,70657,66482,64461,64440,64254,63955,66803,69431,68497,68961,67044,65051,70842,83272,81016,66892,59050,55428,54354,55523,60406,63265,60276,56615,55119,52152,49403,48464,48020,48816,51857,56839,59358,56562,52494,49824,47795,47295,47452,49988,53436,57110,58286,56230,51749,47591,45100,44659,44398,45159,48217,52253,56803,63156,66471,61778,52931,48841,47410,45573,44958,46895,49892,53182,62422,86324,121535,149964,160876,162024,158274,154643,150091,145114,142642,138876,136458,131647,126857,123365,122135,123486,123070,114670,106619,100473,95686,92831,90501,88817,86577,86428,85318,82886,83638,86071,83235,80772,80805,80141,75346,70721,70436,69255,67115,62583,58974,56937,56058,54478,54079,55303,59481,62672,58893,56498,58965,61914,56759,50408,47662,46519,47338,48044,48876,49897,53686,57813,56384,48283,43731,41859,41773,43696,46198,51876,60848,60864,50438,42579,41371,42501,43176,43869,45512,48424,53356,56473,52365,48274,47387,46440,43327,42966,47623,57270,59626,52946,47986,53405,62379,64711,56726,49179,44026,42332,44138,47017,49047,52264,50896,42260,37589,35937,35198,35760,35901,36237,35993,35273,35097,35852,37753,42071,49079,49470,44567,43480,46918,47453,45366,49623,55423,49798,40588,37984,41089,46561,50696,49145,42562,38088,36173,37529,40064,44093,53637,73002,85973,74357,63555,63388,66891,69321,67023,67562,80251,101168,101288,89374,93919,86405,63823,51821,47551,47815,49913,50817,46975,42503,40553,39970,39559,41383,44460,45134,42045,39005,38262,38520,39923,41821,42052,39240,37737,37517,37197,38508,40444,43058,43351,45320,43094,36918,34658,35284,37517,41370,41061,37305,36352,38695,40963,42228,39352,33651,31340,31407,31213,30541,30020,29824,30400,31301,31355,30122,30718,30972,30421,29123,28947,28914,28992,29363,30914,35079,39044,36380,31249,29249,29400,29377,28612,28436,28108,28121,27347,27142,26978,27279,27405,27942,28105,27612,27305,28188,28486,27882,27375,27009,26499,25761,25578,25889,26189,26318,25679,25785,25678,25877,26341,27726,28178,27792,26438,25576,24809,25043,24772,25564,24818,24676,25174,26239,29251,33960,35496,32945,30033,27451,27462,27459,27803,27274,27552,29172,30805,30367,28277,26600,26522,26865,27843,28952,27741,26248,24932,24915,24724,24415,24080,24698,25316,25377,25597,25755,25417,25490,25423,25131,25989,26194,25677,25266,26135,25913,25698,25357,25388,25282,24502,24447,24771,25626,27817,33002,47316,75707,91208,68240,41948,30943,27379,26038,25151,25272,26678,28487,28479,27972,28328,27402,27122,27838,27172,24779,23132,22728,23197,24202,28288,34499,43421,48067,41456,33885,32152,33234,34931,37396,40948,47023,48522,43650,39254,35795,33356,30764,28461,27502,26999,27255,26454,25806,25420,25357,25792,25825,25237,25026,24499,23714,23532,23451,23656,23823,23548,22954,22546,22922,23276,23306,22466,21252,20888,20866,21028,21031,21493,22737,23072,23266,24554,24902,23564,21980,20921,20932,21517,22026,22355,21584,21131,21472,22667,24917,27128,28226,27357,25791,23909,22546,22170,21134,20640,20632,21418,21987,22617,22923,21961,20800,20135,20196,19895,19713,19480,19196,19376,19396,19241,19320,19704,20625,20994,21346,20844,19687,18855,18703,18496,18710,18871,19436,19663,19193,19018,18416,18344,17985,18409,18182,18818,20124,22180,21840,20231,18425,17553,17118,16969,17407,17368,17819,18357,18233,18148,18302,17816,18002,18048,18002,17689,17346,17848,17956,18063,17995,17676,17860,17833,18145,17622,17330,17517,17259,17442,17490,17407,17165,17272,17046,17718,18549,19175,18895,18079,17765,17980,18358,18066,17649,17255,17293,17998,19085,21303,24774,26454,24620,22992,22500,22785,22995,23054,23898,24200,25220,26877,27935,27483,25385,25685,27461,28482,27940,27416,25929,23434,22315,22575,24257,25679,25300,23853,21979,20509,20950,22309,23309,23031,23107,22855,21246,20070,19880,21008,20286,19215,18250,17874,18026,18546,19116,18676,17809,17312,16766,16528,16544,16373,16090,16091,15971,15861,15909,15474,15623,15571,15808,15959,15684,15612,15483,15323,15763,15474,15358,15242,15372,15873,16357,16830,16681,16861,17525,17572,16076,15254,14763,15067,15070,15327,15457,15671,16529,18447,19531,18132,16142,15535,15508,16390,17030,16725,15858,15211,15300,14967,15051,14722,15572,16728,18684,22360,30408,40676,40479,28397,19717,16738,16028,15016,14566,14270,14565,15033,15008,14745,15444,15904,15870,15089,14864,14715,14452,14563,14173,13313,12967,12855,12646,12760,12673,12593,12440,12552,12532,12477,12639,12665,12809,12768,12597,12509,12422,12553,12495,12207,12236,12290,12652,12568,12529,12267,11976,11784,11759,11780,11870,12172,12975,13401,13269,12458,11527,11358,11439,11388,11298,11541,11644,11955,11787,12055,12085,11772,11625,11586,11602,11433,11311,11286,11353,11796,12222,11912,11599,11289,11055,10972,10886,10694,10965,10981,11247,11403,11636,11844,11910,11821,11857,12026,11881,12057,12300,12108,11585,11055,10656,10856,10942,10864,11084,11562,11264,10655,10653,10472,10289,10567,10538,10706,10554,11156,11645,13345,16989,21980,25961,22871,16192,12497,10966,10555,10393,10084,10405,10358,10169,10196,10278,10442,10913,11692,11925,11726,11714,11362,10672,10413,10130,10352,10987,11533,11419,11212,11426,11620,11208,11035,11101,11360,11275,11522,11824,11518,11484,11250,11199,11048,10985,11192,11140,11381,11547,11632,11181,10881,10831,10798,10819,11017,10931,10972,10915,10747,10574,10476,10292,10301,9819,9963,9692,3326617]},{\"_typename\":\"TPaveText\",\"fUniqueID\":0,\"fBits\":50331657,\"fLineColor\":1,\"fLineStyle\":1,\"fLineWidth\":1,\"fFillColor\":0,\"fFillStyle\":0,\"fX1\":713.739223597603,\"fY1\":489662.151123877,\"fX2\":786.260776402397,\"fY2\":521723.363954376,\"fX1NDC\":0.48066091954023,\"fY1NDC\":0.940000003948808,\"fX2NDC\":0.51933908045977,\"fY2NDC\":0.995000004768372,\"fBorderSize\":0,\"fInit\":1,\"fShadowColor\":1,\"fCornerRadius\":0,\"fOption\":\"blNDC\",\"fName\":\"title\",\"fTextAngle\":0,\"fTextSize\":0,\"fTextAlign\":22,\"fTextColor\":1,\"fTextFont\":42,\"fLabel\":\"\",\"fLongest\":1,\"fMargin\":0.05,\"fLines\":{\"_typename\":\"TList\",\"name\":\"TList\",\"arr\":[{\"_typename\":\"TLatex\",\"fUniqueID\":0,\"fBits\":50331648,\"fName\":\"\",\"fTitle\":\"e\",\"fTextAngle\":0,\"fTextSize\":0,\"fTextAlign\":0,\"fTextColor\":0,\"fTextFont\":0,\"fX\":0,\"fY\":0,\"fLineColor\":1,\"fLineStyle\":1,\"fLineWidth\":2,\"fLimitFactorSize\":3,\"fOriginSize\":0.0467500016093254}],\"opt\":[\"\"]}}],\"opt\":[\"\",\"\",\"blNDC\"]},\"fExecs\":null,\"fName\":\"c1\",\"fTitle\":\"c1\",\"fNumPaletteColor\":0,\"fNextPaletteColor\":0,\"fDISPLAY\":\"$DISPLAY\",\"fDoubleBuffer\":0,\"fRetained\":true,\"fXsizeUser\":0,\"fYsizeUser\":0,\"fXsizeReal\":20,\"fYsizeReal\":14.28571,\"fWindowTopX\":0,\"fWindowTopY\":0,\"fWindowWidth\":0,\"fWindowHeight\":0,\"fCw\":696,\"fCh\":472,\"fCatt\":{\"_typename\":\"TAttCanvas\",\"fXBetween\":2,\"fYBetween\":2,\"fTitleFromTop\":1.2,\"fXdate\":0.2,\"fYdate\":0.3,\"fAdate\":1},\"kMoveOpaque\":true,\"kResizeOpaque\":true,\"fHighLightColor\":2,\"fBatch\":true,\"kShowEventStatus\":false,\"kAutoExec\":true,\"kMenuBar\":true});\n",
       "       Core.draw(\"root_plot_1\", obj, \"\");\n",
       "     }\n",
       " );\n",
       "</script>\n"
      ],
      "text/plain": [
       "<IPython.core.display.HTML object>"
      ]
     },
     "metadata": {},
     "output_type": "display_data"
    }
   ],
   "source": [
    "%jsroot on\n",
    "tree->Draw(\"e>>(1500,0,1500)\");\n",
    "c2->Draw();"
   ]
  },
  {
   "cell_type": "code",
   "execution_count": 4,
   "metadata": {},
   "outputs": [
    {
     "data": {
      "text/html": [
       "\n",
       "<div id=\"root_plot_2\"\n",
       "     style=\"width: 696px; height: 472px\">\n",
       "</div>\n",
       "\n",
       "<script>\n",
       " requirejs.config({\n",
       "     paths: {\n",
       "       'JSRootCore' : 'https://root.cern.ch/js/notebook//scripts/JSRootCore',\n",
       "     }\n",
       "   });\n",
       " require(['JSRootCore'],\n",
       "     function(Core) {\n",
       "       var obj = Core.JSONR_unref({\"_typename\":\"TCanvas\",\"fUniqueID\":0,\"fBits\":53673992,\"fLineColor\":1,\"fLineStyle\":1,\"fLineWidth\":1,\"fFillColor\":0,\"fFillStyle\":1001,\"fLeftMargin\":0.1,\"fRightMargin\":0.1,\"fBottomMargin\":0.1,\"fTopMargin\":0.1,\"fXfile\":2,\"fYfile\":2,\"fAfile\":1,\"fXstat\":0.99,\"fYstat\":0.99,\"fAstat\":2,\"fFrameFillColor\":0,\"fFrameLineColor\":1,\"fFrameFillStyle\":1001,\"fFrameLineStyle\":1,\"fFrameLineWidth\":1,\"fFrameBorderSize\":1,\"fFrameBorderMode\":0,\"fX1\":-125.000009313226,\"fY1\":-0.851611748957926,\"fX2\":1125.00000931323,\"fY2\":4.65420545580923,\"fXtoAbsPixelk\":69.6000541484835,\"fXtoPixelk\":69.6000541484835,\"fXtoPixel\":0.556799991703033,\"fYtoAbsPixelk\":398.993495194637,\"fYtoPixelk\":398.993495194637,\"fYtoPixel\":-85.7275100944731,\"fUtoAbsPixelk\":5e-5,\"fUtoPixelk\":5e-5,\"fUtoPixel\":696,\"fVtoAbsPixelk\":472.00005,\"fVtoPixelk\":472,\"fVtoPixel\":-472,\"fAbsPixeltoXk\":-125.000009313226,\"fPixeltoXk\":-125.000009313226,\"fPixeltoX\":1.7959770382564,\"fAbsPixeltoYk\":4.65420545580923,\"fPixeltoYk\":-0.851611748957926,\"fPixeltoY\":-0.0116648669592524,\"fXlowNDC\":0,\"fYlowNDC\":0,\"fXUpNDC\":0,\"fYUpNDC\":0,\"fWNDC\":1,\"fHNDC\":1,\"fAbsXlowNDC\":0,\"fAbsYlowNDC\":0,\"fAbsWNDC\":1,\"fAbsHNDC\":1,\"fUxmin\":0,\"fUymin\":-0.301029995663981,\"fUxmax\":1000,\"fUymax\":4.10362370251528,\"fTheta\":30,\"fPhi\":30,\"fAspectRatio\":0,\"fNumber\":0,\"fTickx\":0,\"fTicky\":0,\"fLogx\":0,\"fLogy\":1,\"fLogz\":0,\"fPadPaint\":0,\"fCrosshair\":0,\"fCrosshairPos\":0,\"fBorderSize\":2,\"fBorderMode\":0,\"fModified\":false,\"fGridx\":false,\"fGridy\":false,\"fAbsCoord\":false,\"fEditable\":true,\"fFixedAspectRatio\":false,\"fPrimitives\":{\"_typename\":\"TList\",\"name\":\"TList\",\"arr\":[{\"_typename\":\"TFrame\",\"fUniqueID\":0,\"fBits\":50331656,\"fLineColor\":1,\"fLineStyle\":1,\"fLineWidth\":1,\"fFillColor\":0,\"fFillStyle\":1001,\"fX1\":0,\"fY1\":-0.301029995663981,\"fX2\":1000,\"fY2\":4.10362370251528,\"fBorderSize\":1,\"fBorderMode\":0},{\"_typename\":\"TH1F\",\"fUniqueID\":0,\"fBits\":50331656,\"fName\":\"td363\",\"fTitle\":\"t {e>=361 && e<365}\",\"fLineColor\":602,\"fLineStyle\":1,\"fLineWidth\":1,\"fFillColor\":0,\"fFillStyle\":1001,\"fMarkerColor\":1,\"fMarkerStyle\":1,\"fMarkerSize\":1,\"fNcells\":102,\"fXaxis\":{\"_typename\":\"TAxis\",\"fUniqueID\":0,\"fBits\":54525952,\"fName\":\"xaxis\",\"fTitle\":\"\",\"fNdivisions\":510,\"fAxisColor\":1,\"fLabelColor\":1,\"fLabelFont\":42,\"fLabelOffset\":0.005,\"fLabelSize\":0.035,\"fTickLength\":0.03,\"fTitleOffset\":1,\"fTitleSize\":0.035,\"fTitleColor\":1,\"fTitleFont\":42,\"fNbins\":100,\"fXmin\":0,\"fXmax\":1000,\"fXbins\":[],\"fFirst\":0,\"fLast\":0,\"fBits2\":0,\"fTimeDisplay\":false,\"fTimeFormat\":\"\",\"fLabels\":null,\"fModLabs\":null},\"fYaxis\":{\"_typename\":\"TAxis\",\"fUniqueID\":0,\"fBits\":50331648,\"fName\":\"yaxis\",\"fTitle\":\"\",\"fNdivisions\":510,\"fAxisColor\":1,\"fLabelColor\":1,\"fLabelFont\":42,\"fLabelOffset\":0.005,\"fLabelSize\":0.035,\"fTickLength\":0.03,\"fTitleOffset\":0,\"fTitleSize\":0.035,\"fTitleColor\":1,\"fTitleFont\":42,\"fNbins\":1,\"fXmin\":0,\"fXmax\":1,\"fXbins\":[],\"fFirst\":0,\"fLast\":0,\"fBits2\":0,\"fTimeDisplay\":false,\"fTimeFormat\":\"\",\"fLabels\":null,\"fModLabs\":null},\"fZaxis\":{\"_typename\":\"TAxis\",\"fUniqueID\":0,\"fBits\":50331648,\"fName\":\"zaxis\",\"fTitle\":\"\",\"fNdivisions\":510,\"fAxisColor\":1,\"fLabelColor\":1,\"fLabelFont\":42,\"fLabelOffset\":0.005,\"fLabelSize\":0.035,\"fTickLength\":0.03,\"fTitleOffset\":1,\"fTitleSize\":0.035,\"fTitleColor\":1,\"fTitleFont\":42,\"fNbins\":1,\"fXmin\":0,\"fXmax\":1,\"fXbins\":[],\"fFirst\":0,\"fLast\":0,\"fBits2\":0,\"fTimeDisplay\":false,\"fTimeFormat\":\"\",\"fLabels\":null,\"fModLabs\":null},\"fBarOffset\":0,\"fBarWidth\":1000,\"fEntries\":96698,\"fTsumw\":96698,\"fTsumw2\":97942,\"fTsumwx\":14562350,\"fTsumwx2\":3393056250,\"fMaximum\":-1111,\"fMinimum\":-1111,\"fNormFactor\":0,\"fContour\":[],\"fSumw2\":[],\"fOption\":\"\",\"fFunctions\":{\"_typename\":\"TList\",\"name\":\"TList\",\"arr\":[{\"_typename\":\"TF1\",\"fUniqueID\":0,\"fBits\":50332672,\"fName\":\"f1\",\"fTitle\":\"[0]*TMath::Exp(-[1]*x)\",\"fLineColor\":2,\"fLineStyle\":1,\"fLineWidth\":2,\"fFillColor\":19,\"fFillStyle\":0,\"fMarkerColor\":1,\"fMarkerStyle\":1,\"fMarkerSize\":1,\"fXmin\":50,\"fXmax\":400,\"fNpar\":2,\"fNdim\":1,\"fNpx\":100,\"fType\":0,\"fNpfits\":35,\"fNDF\":33,\"fChisquare\":212.441103373488,\"fMinimum\":-1111,\"fMaximum\":-1111,\"fParErrors\":[77.5836247692545,4.32187329143528e-5],\"fParMin\":[0,0],\"fParMax\":[0,0],\"fSave\":[6916.05742377043,6718.10801933711,6525.82426576736,6339.04400243332,6157.60971002194,5981.36837769257,5810.17137403683,5643.87432173169,5482.3369757803,5325.42310523773,5173.00037832194,5024.94025081306,4881.11785764687,4741.41190761106,4605.7045810555,4473.88143053013,4345.8312842669,4221.44615242406,4100.62113601404,3983.25433843789,3869.24677955178,3758.50231219306,3650.92754109547,3546.4317441252,3444.92679577121,3346.32709282549,3250.54948219039,3157.51319075228,3067.13975726233,2979.352966167,2894.07878333237,2811.24529360819,2730.78264017892,2652.62296565072,2576.7003548245,2502.95077910704,2431.31204251309,2361.72372921296,2294.12715258146,2228.46530570509,2164.6828133058,2102.72588504084,2042.54227013912,1984.08121333611,1927.29341206983,1872.13097490205,1818.54738112949,1766.49744155104,1715.9372603579,1666.82419811446,1619.11683579879,1572.77493987225,1527.75942834898,1484.03233783645,1441.55679151943,1400.29696806028,1360.21807138938,1321.28630136018,1283.46882524421,1246.73375004188,1211.05009558587,1176.3877684143,1142.71753639166,1110.01100405623,1078.24058867301,1047.37949697211,1017.40170255289,988.281923934862,959.995603236779,932.518885466017,905.828598400675,879.902233047518,854.717924659236,830.254434295018,806.491130908907,783.4079739508,760.985496465451,739.204788675201,718.047482032605,697.495733729493,677.532211649414,658.140079750764,639.302983868275,621.005037920889,603.230810514385,585.965311927467,569.193981470325,552.902675205019,537.077654017333,521.705572030018,506.773465347684,492.268741123822,478.17916694075,464.492860493522,451.198279569107,438.284212312367,425.739767770658,413.554366709046,401.717732688413,390.219883398922,379.051122241537,50,400],\"fNormalized\":false,\"fNormIntegral\":0,\"fFormula\":{\"_typename\":\"TFormula\",\"fUniqueID\":0,\"fBits\":50332672,\"fName\":\"f1\",\"fTitle\":\"[0]*TMath::Exp(-[1]*x)\",\"fClingParameters\":[10471.8742800743,0.00829694304752591],\"fAllParametersSetted\":true,\"fParams\":[{\"$pair\":\"pair<TString,int,TFormulaParamOrder>\",\"first\":\"p0\",\"second\":0},{\"$pair\":\"pair<TString,int,TFormulaParamOrder>\",\"first\":\"p1\",\"second\":1}],\"fFormula\":\"[p0]*TMath::Exp(-[p1]*x)\",\"fNdim\":1,\"fLinearParts\":[],\"fVectorized\":false},\"fParams\":null,\"fComposition_ptr\":null},{\"_typename\":\"TPaveStats\",\"fUniqueID\":0,\"fBits\":50331657,\"fLineColor\":1,\"fLineStyle\":1,\"fLineWidth\":1,\"fFillColor\":0,\"fFillStyle\":1001,\"fX1\":850.000025331974,\"fY1\":3.41539661755385,\"fX2\":1100.00003278256,\"fY2\":4.29632735062626,\"fX1NDC\":0.780000016093254,\"fY1NDC\":0.775000005960464,\"fX2NDC\":0.980000019073486,\"fY2NDC\":0.935000002384186,\"fBorderSize\":1,\"fInit\":1,\"fShadowColor\":1,\"fCornerRadius\":0,\"fOption\":\"brNDC\",\"fName\":\"stats\",\"fTextAngle\":0,\"fTextSize\":0,\"fTextAlign\":12,\"fTextColor\":1,\"fTextFont\":42,\"fLabel\":\"\",\"fLongest\":18,\"fMargin\":0.05,\"fLines\":{\"_typename\":\"TList\",\"name\":\"TList\",\"arr\":[{\"_typename\":\"TLatex\",\"fUniqueID\":0,\"fBits\":50331648,\"fName\":\"\",\"fTitle\":\"td363\",\"fTextAngle\":0,\"fTextSize\":0.0368,\"fTextAlign\":0,\"fTextColor\":0,\"fTextFont\":0,\"fX\":0,\"fY\":0,\"fLineColor\":1,\"fLineStyle\":1,\"fLineWidth\":2,\"fLimitFactorSize\":3,\"fOriginSize\":0.0368000008165836},{\"_typename\":\"TLatex\",\"fUniqueID\":0,\"fBits\":50331648,\"fName\":\"\",\"fTitle\":\"Entries = 96698  \",\"fTextAngle\":0,\"fTextSize\":0,\"fTextAlign\":0,\"fTextColor\":0,\"fTextFont\":0,\"fX\":0,\"fY\":0,\"fLineColor\":1,\"fLineStyle\":1,\"fLineWidth\":2,\"fLimitFactorSize\":3,\"fOriginSize\":0.04},{\"_typename\":\"TLatex\",\"fUniqueID\":0,\"fBits\":50331648,\"fName\":\"\",\"fTitle\":\"Mean  =  150.6\",\"fTextAngle\":0,\"fTextSize\":0,\"fTextAlign\":0,\"fTextColor\":0,\"fTextFont\":0,\"fX\":0,\"fY\":0,\"fLineColor\":1,\"fLineStyle\":1,\"fLineWidth\":2,\"fLimitFactorSize\":3,\"fOriginSize\":0.04},{\"_typename\":\"TLatex\",\"fUniqueID\":0,\"fBits\":50331648,\"fName\":\"\",\"fTitle\":\"Std Dev   =  111.4\",\"fTextAngle\":0,\"fTextSize\":0,\"fTextAlign\":0,\"fTextColor\":0,\"fTextFont\":0,\"fX\":0,\"fY\":0,\"fLineColor\":1,\"fLineStyle\":1,\"fLineWidth\":2,\"fLimitFactorSize\":3,\"fOriginSize\":0.04}],\"opt\":[\"\",\"\",\"\",\"\"]},\"fOptFit\":0,\"fOptStat\":1111,\"fFitFormat\":\"5.4g\",\"fStatFormat\":\"6.4g\",\"fParent\":{\"$ref\":3}}],\"opt\":[\"\",\"brNDC\"]},\"fBufferSize\":0,\"fBuffer\":[],\"fBinStatErrOpt\":0,\"fStatOverflows\":2,\"fArray\":[0,0,0,0,6700,6506,6582,6286,5776,5363,4648,4242,4099,3623,3270,3191,2995,2904,2265,1993,2043,1905,1818,1528,1557,1480,1311,1098,932,1078,855,782,783,696,776,693,547,514,474,407,464,568,253,423,278,394,263,189,188,177,114,177,172,196,136,176,120,146,123,57,85,67,-2,-33,9,71,78,100,-76,49,41,3,48,39,10,30,-12,31,73,-39,-8,-1,44,2,-60,91,14,-86,4,-63,-45,10,-45,-21,-37,-31,-10,-29,-24,86,1,654]},{\"_typename\":\"TPaveText\",\"fUniqueID\":0,\"fBits\":50331657,\"fLineColor\":1,\"fLineStyle\":1,\"fLineWidth\":1,\"fFillColor\":0,\"fFillStyle\":0,\"fX1\":280.96264041425,\"fY1\":4.30472606796381,\"fX2\":719.03735958575,\"fY2\":4.62667639603918,\"fX1NDC\":0.324770114942529,\"fY1NDC\":0.936525428497185,\"fX2NDC\":0.675229885057471,\"fY2NDC\":0.995000004768372,\"fBorderSize\":0,\"fInit\":1,\"fShadowColor\":1,\"fCornerRadius\":0,\"fOption\":\"blNDC\",\"fName\":\"title\",\"fTextAngle\":0,\"fTextSize\":0,\"fTextAlign\":22,\"fTextColor\":1,\"fTextFont\":42,\"fLabel\":\"\",\"fLongest\":19,\"fMargin\":0.05,\"fLines\":{\"_typename\":\"TList\",\"name\":\"TList\",\"arr\":[{\"_typename\":\"TLatex\",\"fUniqueID\":0,\"fBits\":50331648,\"fName\":\"\",\"fTitle\":\"t {e>=361 && e<365}\",\"fTextAngle\":0,\"fTextSize\":0,\"fTextAlign\":0,\"fTextColor\":0,\"fTextFont\":0,\"fX\":0,\"fY\":0,\"fLineColor\":1,\"fLineStyle\":1,\"fLineWidth\":2,\"fLimitFactorSize\":3,\"fOriginSize\":0.0497033894062042}],\"opt\":[\"\"]}}],\"opt\":[\"\",\"\",\"blNDC\"]},\"fExecs\":null,\"fName\":\"c1\",\"fTitle\":\"c1\",\"fNumPaletteColor\":0,\"fNextPaletteColor\":0,\"fDISPLAY\":\"$DISPLAY\",\"fDoubleBuffer\":0,\"fRetained\":true,\"fXsizeUser\":0,\"fYsizeUser\":0,\"fXsizeReal\":20,\"fYsizeReal\":14.28571,\"fWindowTopX\":0,\"fWindowTopY\":0,\"fWindowWidth\":0,\"fWindowHeight\":0,\"fCw\":696,\"fCh\":472,\"fCatt\":{\"_typename\":\"TAttCanvas\",\"fXBetween\":2,\"fYBetween\":2,\"fTitleFromTop\":1.2,\"fXdate\":0.2,\"fYdate\":0.3,\"fAdate\":1},\"kMoveOpaque\":true,\"kResizeOpaque\":true,\"fHighLightColor\":2,\"fBatch\":true,\"kShowEventStatus\":false,\"kAutoExec\":true,\"kMenuBar\":true});\n",
       "       Core.draw(\"root_plot_2\", obj, \"\");\n",
       "     }\n",
       " );\n",
       "</script>\n"
      ],
      "text/plain": [
       "<IPython.core.display.HTML object>"
      ]
     },
     "metadata": {},
     "output_type": "display_data"
    },
    {
     "name": "stdout",
     "output_type": "stream",
     "text": [
      " FCN=212.441 FROM MIGRAD    STATUS=CONVERGED      71 CALLS          72 TOTAL\n",
      "                     EDM=1.44963e-08    STRATEGY= 1      ERROR MATRIX ACCURATE \n",
      "  EXT PARAMETER                                   STEP         FIRST   \n",
      "  NO.   NAME      VALUE            ERROR          SIZE      DERIVATIVE \n",
      "   1  p0           1.04719e+04   7.75836e+01   2.66172e-01  -4.36453e-06\n",
      "   2  p1           8.29694e-03   4.32187e-05   1.48287e-07   8.01969e+00\n",
      "halflife: 83.5425 +- 0.435172 ns"
     ]
    }
   ],
   "source": [
    "cut = \"e>=361 && e<365\";\n",
    "cutb = \"(e>=365 && e<369)\";\n",
    "\n",
    "tree->Draw(\"t>>td363(100,0,1000)\",cut);\n",
    "TH1D *td363 = (TH1D*)gROOT->FindObject(\"td363\");\n",
    "tree->Draw(\"t>>tdb363(100,0,1000)\",cutb);\n",
    "TH1D *tdb363 = (TH1D*)gROOT->FindObject(\"tdb363\");\n",
    "td363->Add(td363,tdb363,1,-1);\n",
    "\n",
    "td363->Fit(\"f1\",\"R\");\n",
    "td363->Draw();\n",
    "c2->SetLogy();\n",
    "c2->Draw();\n",
    "\n",
    "cout<<\"halflife: \"<<log(2)/f1->GetParameter(1)<<\" +- \"<<log(2)/f1->GetParameter(1)/f1->GetParameter(1)*f1->GetParError(1)<<\" ns\";"
   ]
  },
  {
   "cell_type": "code",
   "execution_count": 5,
   "metadata": {},
   "outputs": [
    {
     "data": {
      "text/html": [
       "\n",
       "<div id=\"root_plot_3\"\n",
       "     style=\"width: 696px; height: 472px\">\n",
       "</div>\n",
       "\n",
       "<script>\n",
       " requirejs.config({\n",
       "     paths: {\n",
       "       'JSRootCore' : 'https://root.cern.ch/js/notebook//scripts/JSRootCore',\n",
       "     }\n",
       "   });\n",
       " require(['JSRootCore'],\n",
       "     function(Core) {\n",
       "       var obj = Core.JSONR_unref({\"_typename\":\"TCanvas\",\"fUniqueID\":0,\"fBits\":53673992,\"fLineColor\":1,\"fLineStyle\":1,\"fLineWidth\":1,\"fFillColor\":0,\"fFillStyle\":1001,\"fLeftMargin\":0.1,\"fRightMargin\":0.1,\"fBottomMargin\":0.1,\"fTopMargin\":0.1,\"fXfile\":2,\"fYfile\":2,\"fAfile\":1,\"fXstat\":0.99,\"fYstat\":0.99,\"fAstat\":2,\"fFrameFillColor\":0,\"fFrameLineColor\":1,\"fFrameFillStyle\":1001,\"fFrameLineStyle\":1,\"fFrameLineWidth\":1,\"fFrameBorderSize\":1,\"fFrameBorderMode\":0,\"fX1\":-125.000009313226,\"fY1\":-0.761927170698459,\"fX2\":1125.00000931323,\"fY2\":3.8470443049302,\"fXtoAbsPixelk\":69.6000541484835,\"fXtoPixelk\":69.6000541484835,\"fXtoPixel\":0.556799991703033,\"fYtoAbsPixelk\":393.971876800985,\"fYtoPixelk\":393.971876800985,\"fYtoPixel\":-102.40896531815,\"fUtoAbsPixelk\":5e-5,\"fUtoPixelk\":5e-5,\"fUtoPixel\":696,\"fVtoAbsPixelk\":472.00005,\"fVtoPixelk\":472,\"fVtoPixel\":-472,\"fAbsPixeltoXk\":-125.000009313226,\"fPixeltoXk\":-125.000009313226,\"fPixeltoX\":1.7959770382564,\"fAbsPixeltoYk\":3.8470443049302,\"fPixeltoYk\":-0.761927170698459,\"fPixeltoY\":-0.00976477007548445,\"fXlowNDC\":0,\"fYlowNDC\":0,\"fXUpNDC\":0,\"fYUpNDC\":0,\"fWNDC\":1,\"fHNDC\":1,\"fAbsXlowNDC\":0,\"fAbsYlowNDC\":0,\"fAbsWNDC\":1,\"fAbsHNDC\":1,\"fUxmin\":0,\"fUymin\":-0.301029995663981,\"fUxmax\":1000,\"fUymax\":3.38614712989572,\"fTheta\":30,\"fPhi\":30,\"fAspectRatio\":0,\"fNumber\":0,\"fTickx\":0,\"fTicky\":0,\"fLogx\":0,\"fLogy\":1,\"fLogz\":0,\"fPadPaint\":0,\"fCrosshair\":0,\"fCrosshairPos\":0,\"fBorderSize\":2,\"fBorderMode\":0,\"fModified\":false,\"fGridx\":false,\"fGridy\":false,\"fAbsCoord\":false,\"fEditable\":true,\"fFixedAspectRatio\":false,\"fPrimitives\":{\"_typename\":\"TList\",\"name\":\"TList\",\"arr\":[{\"_typename\":\"TFrame\",\"fUniqueID\":0,\"fBits\":50331656,\"fLineColor\":1,\"fLineStyle\":1,\"fLineWidth\":1,\"fFillColor\":0,\"fFillStyle\":1001,\"fX1\":0,\"fY1\":-0.301029995663981,\"fX2\":1000,\"fY2\":3.38614712989572,\"fBorderSize\":1,\"fBorderMode\":0},{\"_typename\":\"TH1F\",\"fUniqueID\":0,\"fBits\":50331656,\"fName\":\"td818\",\"fTitle\":\"t {e>=817 && e<820}\",\"fLineColor\":602,\"fLineStyle\":1,\"fLineWidth\":1,\"fFillColor\":0,\"fFillStyle\":1001,\"fMarkerColor\":1,\"fMarkerStyle\":1,\"fMarkerSize\":1,\"fNcells\":102,\"fXaxis\":{\"_typename\":\"TAxis\",\"fUniqueID\":0,\"fBits\":54525952,\"fName\":\"xaxis\",\"fTitle\":\"\",\"fNdivisions\":510,\"fAxisColor\":1,\"fLabelColor\":1,\"fLabelFont\":42,\"fLabelOffset\":0.005,\"fLabelSize\":0.035,\"fTickLength\":0.03,\"fTitleOffset\":1,\"fTitleSize\":0.035,\"fTitleColor\":1,\"fTitleFont\":42,\"fNbins\":100,\"fXmin\":0,\"fXmax\":1000,\"fXbins\":[],\"fFirst\":0,\"fLast\":0,\"fBits2\":0,\"fTimeDisplay\":false,\"fTimeFormat\":\"\",\"fLabels\":null,\"fModLabs\":null},\"fYaxis\":{\"_typename\":\"TAxis\",\"fUniqueID\":0,\"fBits\":50331648,\"fName\":\"yaxis\",\"fTitle\":\"\",\"fNdivisions\":510,\"fAxisColor\":1,\"fLabelColor\":1,\"fLabelFont\":42,\"fLabelOffset\":0.005,\"fLabelSize\":0.035,\"fTickLength\":0.03,\"fTitleOffset\":0,\"fTitleSize\":0.035,\"fTitleColor\":1,\"fTitleFont\":42,\"fNbins\":1,\"fXmin\":0,\"fXmax\":1,\"fXbins\":[],\"fFirst\":0,\"fLast\":0,\"fBits2\":0,\"fTimeDisplay\":false,\"fTimeFormat\":\"\",\"fLabels\":null,\"fModLabs\":null},\"fZaxis\":{\"_typename\":\"TAxis\",\"fUniqueID\":0,\"fBits\":50331648,\"fName\":\"zaxis\",\"fTitle\":\"\",\"fNdivisions\":510,\"fAxisColor\":1,\"fLabelColor\":1,\"fLabelFont\":42,\"fLabelOffset\":0.005,\"fLabelSize\":0.035,\"fTickLength\":0.03,\"fTitleOffset\":1,\"fTitleSize\":0.035,\"fTitleColor\":1,\"fTitleFont\":42,\"fNbins\":1,\"fXmin\":0,\"fXmax\":1,\"fXbins\":[],\"fFirst\":0,\"fLast\":0,\"fBits2\":0,\"fTimeDisplay\":false,\"fTimeFormat\":\"\",\"fLabels\":null,\"fModLabs\":null},\"fBarOffset\":0,\"fBarWidth\":1000,\"fEntries\":24057,\"fTsumw\":24057,\"fTsumw2\":24357,\"fTsumwx\":4638095,\"fTsumwx2\":1439202825,\"fMaximum\":-1111,\"fMinimum\":-1111,\"fNormFactor\":0,\"fContour\":[],\"fSumw2\":[],\"fOption\":\"\",\"fFunctions\":{\"_typename\":\"TList\",\"name\":\"TList\",\"arr\":[{\"_typename\":\"TF1\",\"fUniqueID\":0,\"fBits\":50332672,\"fName\":\"f1\",\"fTitle\":\"[0]*TMath::Exp(-[1]*x)\",\"fLineColor\":2,\"fLineStyle\":1,\"fLineWidth\":2,\"fFillColor\":19,\"fFillStyle\":0,\"fMarkerColor\":1,\"fMarkerStyle\":1,\"fMarkerSize\":1,\"fXmin\":50,\"fXmax\":400,\"fNpar\":2,\"fNdim\":1,\"fNpx\":100,\"fType\":0,\"fNpfits\":35,\"fNDF\":33,\"fChisquare\":296.60338541174,\"fMinimum\":-1111,\"fMaximum\":-1111,\"fParErrors\":[25.5600821579425,7.39060946230494e-5],\"fParMin\":[0,0],\"fParMax\":[0,0],\"fSave\":[1322.79394119159,1295.5865183542,1268.93870184279,1242.83898159107,1217.27608427354,1192.2389684361,1167.71681972695,1143.69904622549,1120.17527386731,1097.13534196329,1074.56929881091,1052.46739739572,1030.82009118133,1009.61802998593,988.852055943645,968.51319954894,948.592675782415,929.081880316256,909.972385797744,891.255938209206,872.924453302834,854.970013108836,837.384862515398,820.161405919004,803.292203943641,786.769970227492,770.587568275712,754.73800837795,739.214444589253,724.010171773089,709.118622705168,694.533365236853,680.248099516893,666.256655270319,652.552989133297,639.1311820428,625.985436679969,613.110074966067,600.499535609922,588.148371705831,576.051248380857,564.202940490524,552.598330361908,541.232405583141,530.100256838391,519.197075787366,508.518152988431,498.058875864451,487.814726710462,477.78128074233,467.954204185541,458.329252403299,448.902268063132,439.669179341199,430.62599816354,421.768818483496,413.093814594553,404.597239477902,396.275423183975,388.124771247272,380.141763133796,372.322950720416,364.664956805513,357.164473650254,349.81826154987,342.623147434323,335.576023497751,328.673845856108,321.913633232407,315.292465669011,308.807483266406,302.455884947917,296.234927249833,290.141923136411,284.174240839261,278.329302720598,272.604584159872,266.997612463307,261.505965795861,256.127272135154,250.859208246918,245.699498681513,240.645914791084,235.696273766939,230.848437696721,226.100312640972,221.449847728691,216.8950342715,212.433904896021,208.064532694106,203.78503039054,199.593549527866,195.488279667975,191.467447610119,187.529316625008,183.672185704656,179.894388827667,176.194294239617,172.570303748252,169.020852033176,165.544405969732,50,400],\"fNormalized\":false,\"fNormIntegral\":0,\"fFormula\":{\"_typename\":\"TFormula\",\"fUniqueID\":0,\"fBits\":50332672,\"fName\":\"f1\",\"fTitle\":\"[0]*TMath::Exp(-[1]*x)\",\"fClingParameters\":[1780.04862787536,0.00593789122275055],\"fAllParametersSetted\":true,\"fParams\":[{\"$pair\":\"pair<TString,int,TFormulaParamOrder>\",\"first\":\"p0\",\"second\":0},{\"$pair\":\"pair<TString,int,TFormulaParamOrder>\",\"first\":\"p1\",\"second\":1}],\"fFormula\":\"[p0]*TMath::Exp(-[p1]*x)\",\"fNdim\":1,\"fLinearParts\":[],\"fVectorized\":false},\"fParams\":null,\"fComposition_ptr\":null},{\"_typename\":\"TPaveStats\",\"fUniqueID\":0,\"fBits\":50331657,\"fLineColor\":1,\"fLineStyle\":1,\"fLineWidth\":1,\"fFillColor\":0,\"fFillStyle\":1001,\"fX1\":850.000025331974,\"fY1\":2.81002575038536,\"fX2\":1100.00003278256,\"fY2\":3.54746117000298,\"fX1NDC\":0.780000016093254,\"fY1NDC\":0.775000005960464,\"fX2NDC\":0.980000019073486,\"fY2NDC\":0.935000002384186,\"fBorderSize\":1,\"fInit\":1,\"fShadowColor\":1,\"fCornerRadius\":0,\"fOption\":\"brNDC\",\"fName\":\"stats\",\"fTextAngle\":0,\"fTextSize\":0,\"fTextAlign\":12,\"fTextColor\":1,\"fTextFont\":42,\"fLabel\":\"\",\"fLongest\":18,\"fMargin\":0.05,\"fLines\":{\"_typename\":\"TList\",\"name\":\"TList\",\"arr\":[{\"_typename\":\"TLatex\",\"fUniqueID\":0,\"fBits\":50331648,\"fName\":\"\",\"fTitle\":\"td818\",\"fTextAngle\":0,\"fTextSize\":0.0368,\"fTextAlign\":0,\"fTextColor\":0,\"fTextFont\":0,\"fX\":0,\"fY\":0,\"fLineColor\":1,\"fLineStyle\":1,\"fLineWidth\":2,\"fLimitFactorSize\":3,\"fOriginSize\":0.0368000008165836},{\"_typename\":\"TLatex\",\"fUniqueID\":0,\"fBits\":50331648,\"fName\":\"\",\"fTitle\":\"Entries = 24057  \",\"fTextAngle\":0,\"fTextSize\":0,\"fTextAlign\":0,\"fTextColor\":0,\"fTextFont\":0,\"fX\":0,\"fY\":0,\"fLineColor\":1,\"fLineStyle\":1,\"fLineWidth\":2,\"fLimitFactorSize\":3,\"fOriginSize\":0.04},{\"_typename\":\"TLatex\",\"fUniqueID\":0,\"fBits\":50331648,\"fName\":\"\",\"fTitle\":\"Mean  =  192.8\",\"fTextAngle\":0,\"fTextSize\":0,\"fTextAlign\":0,\"fTextColor\":0,\"fTextFont\":0,\"fX\":0,\"fY\":0,\"fLineColor\":1,\"fLineStyle\":1,\"fLineWidth\":2,\"fLimitFactorSize\":3,\"fOriginSize\":0.04},{\"_typename\":\"TLatex\",\"fUniqueID\":0,\"fBits\":50331648,\"fName\":\"\",\"fTitle\":\"Std Dev   =  150.5\",\"fTextAngle\":0,\"fTextSize\":0,\"fTextAlign\":0,\"fTextColor\":0,\"fTextFont\":0,\"fX\":0,\"fY\":0,\"fLineColor\":1,\"fLineStyle\":1,\"fLineWidth\":2,\"fLimitFactorSize\":3,\"fOriginSize\":0.04}],\"opt\":[\"\",\"\",\"\",\"\"]},\"fOptFit\":0,\"fOptStat\":1111,\"fFitFormat\":\"5.4g\",\"fStatFormat\":\"6.4g\",\"fParent\":{\"$ref\":3}}],\"opt\":[\"\",\"brNDC\"]},\"fBufferSize\":0,\"fBuffer\":[],\"fBinStatErrOpt\":0,\"fStatOverflows\":2,\"fArray\":[0,0,0,0,883,1229,1199,1121,1021,1116,913,953,971,945,1011,793,663,703,668,651,457,592,571,444,534,462,427,390,319,314,296,311,318,346,248,224,216,117,160,179,130,153,106,114,74,111,74,76,102,96,78,107,80,95,59,37,38,23,66,70,56,29,1,10,12,15,61,13,24,-25,33,13,33,40,-2,-22,22,-16,54,32,25,8,31,20,-14,-11,46,47,7,-7,27,-26,-7,22,25,-1,-19,12,6,7,22,-16]},{\"_typename\":\"TPaveText\",\"fUniqueID\":0,\"fBits\":50331657,\"fLineColor\":1,\"fLineStyle\":1,\"fLineWidth\":1,\"fFillColor\":0,\"fFillStyle\":0,\"fX1\":280.96264041425,\"fY1\":3.55449181544598,\"fX2\":719.03735958575,\"fY2\":3.82399946952935,\"fX1NDC\":0.324770114942529,\"fY1NDC\":0.936525428497185,\"fX2NDC\":0.675229885057471,\"fY2NDC\":0.995000004768372,\"fBorderSize\":0,\"fInit\":1,\"fShadowColor\":1,\"fCornerRadius\":0,\"fOption\":\"blNDC\",\"fName\":\"title\",\"fTextAngle\":0,\"fTextSize\":0,\"fTextAlign\":22,\"fTextColor\":1,\"fTextFont\":42,\"fLabel\":\"\",\"fLongest\":19,\"fMargin\":0.05,\"fLines\":{\"_typename\":\"TList\",\"name\":\"TList\",\"arr\":[{\"_typename\":\"TLatex\",\"fUniqueID\":0,\"fBits\":50331648,\"fName\":\"\",\"fTitle\":\"t {e>=817 && e<820}\",\"fTextAngle\":0,\"fTextSize\":0,\"fTextAlign\":0,\"fTextColor\":0,\"fTextFont\":0,\"fX\":0,\"fY\":0,\"fLineColor\":1,\"fLineStyle\":1,\"fLineWidth\":2,\"fLimitFactorSize\":3,\"fOriginSize\":0.0497033894062042}],\"opt\":[\"\"]}}],\"opt\":[\"\",\"\",\"blNDC\"]},\"fExecs\":null,\"fName\":\"c1\",\"fTitle\":\"c1\",\"fNumPaletteColor\":0,\"fNextPaletteColor\":0,\"fDISPLAY\":\"$DISPLAY\",\"fDoubleBuffer\":0,\"fRetained\":true,\"fXsizeUser\":0,\"fYsizeUser\":0,\"fXsizeReal\":20,\"fYsizeReal\":14.28571,\"fWindowTopX\":0,\"fWindowTopY\":0,\"fWindowWidth\":0,\"fWindowHeight\":0,\"fCw\":696,\"fCh\":472,\"fCatt\":{\"_typename\":\"TAttCanvas\",\"fXBetween\":2,\"fYBetween\":2,\"fTitleFromTop\":1.2,\"fXdate\":0.2,\"fYdate\":0.3,\"fAdate\":1},\"kMoveOpaque\":true,\"kResizeOpaque\":true,\"fHighLightColor\":2,\"fBatch\":true,\"kShowEventStatus\":false,\"kAutoExec\":true,\"kMenuBar\":true});\n",
       "       Core.draw(\"root_plot_3\", obj, \"\");\n",
       "     }\n",
       " );\n",
       "</script>\n"
      ],
      "text/plain": [
       "<IPython.core.display.HTML object>"
      ]
     },
     "metadata": {},
     "output_type": "display_data"
    },
    {
     "name": "stdout",
     "output_type": "stream",
     "text": [
      " FCN=296.603 FROM MIGRAD    STATUS=CONVERGED      72 CALLS          73 TOTAL\n",
      "                     EDM=9.32134e-08    STRATEGY= 1      ERROR MATRIX ACCURATE \n",
      "  EXT PARAMETER                                   STEP         FIRST   \n",
      "  NO.   NAME      VALUE            ERROR          SIZE      DERIVATIVE \n",
      "   1  p0           1.78005e+03   2.55601e+01   1.07423e-01  -2.82650e-05\n",
      "   2  p1           5.93789e-03   7.39061e-05   3.10754e-07   1.16887e+01\n",
      "halflife: 116.733 +- 1.45292 ns"
     ]
    }
   ],
   "source": [
    "cut = \"e>=817 && e<820\";\n",
    "cutb = \"(e>=815 && e<817) || (e>=821 && e<822)\";\n",
    "\n",
    "tree->Draw(\"t>>td818(100,0,1000)\",cut);\n",
    "TH1D *td818 = (TH1D*)gROOT->FindObject(\"td818\");\n",
    "tree->Draw(\"t>>tdb818(100,0,1000)\",cutb);\n",
    "TH1D *tdb818 = (TH1D*)gROOT->FindObject(\"tdb818\");\n",
    "td818->Add(td818,tdb818,1,-1);\n",
    "\n",
    "td818->Fit(\"f1\",\"R\");\n",
    "td818->Draw();\n",
    "c2->SetLogy();\n",
    "c2->Draw();\n",
    "\n",
    "cout<<\"halflife: \"<<log(2)/f1->GetParameter(1)<<\" +- \"<<log(2)/f1->GetParameter(1)/f1->GetParameter(1)*f1->GetParError(1)<<\" ns\";"
   ]
  },
  {
   "cell_type": "code",
   "execution_count": 6,
   "metadata": {},
   "outputs": [
    {
     "data": {
      "text/html": [
       "\n",
       "<div id=\"root_plot_4\"\n",
       "     style=\"width: 696px; height: 472px\">\n",
       "</div>\n",
       "\n",
       "<script>\n",
       " requirejs.config({\n",
       "     paths: {\n",
       "       'JSRootCore' : 'https://root.cern.ch/js/notebook//scripts/JSRootCore',\n",
       "     }\n",
       "   });\n",
       " require(['JSRootCore'],\n",
       "     function(Core) {\n",
       "       var obj = Core.JSONR_unref({\"_typename\":\"TCanvas\",\"fUniqueID\":0,\"fBits\":53673992,\"fLineColor\":1,\"fLineStyle\":1,\"fLineWidth\":1,\"fFillColor\":0,\"fFillStyle\":1001,\"fLeftMargin\":0.1,\"fRightMargin\":0.1,\"fBottomMargin\":0.1,\"fTopMargin\":0.1,\"fXfile\":2,\"fYfile\":2,\"fAfile\":1,\"fXstat\":0.99,\"fYstat\":0.99,\"fAstat\":2,\"fFrameFillColor\":0,\"fFrameLineColor\":1,\"fFrameFillStyle\":1001,\"fFrameLineStyle\":1,\"fFrameLineWidth\":1,\"fFrameBorderSize\":1,\"fFrameBorderMode\":0,\"fX1\":-125.000009313226,\"fY1\":-0.816070120904935,\"fX2\":1125.00000931323,\"fY2\":4.33433082451677,\"fXtoAbsPixelk\":69.6000541484835,\"fXtoPixelk\":69.6000541484835,\"fXtoPixel\":0.556799991703033,\"fYtoAbsPixelk\":397.212649727886,\"fYtoPixelk\":397.212649727886,\"fYtoPixel\":-91.6433506831289,\"fUtoAbsPixelk\":5e-5,\"fUtoPixelk\":5e-5,\"fUtoPixel\":696,\"fVtoAbsPixelk\":472.00005,\"fVtoPixelk\":472,\"fVtoPixel\":-472,\"fAbsPixeltoXk\":-125.000009313226,\"fPixeltoXk\":-125.000009313226,\"fPixeltoX\":1.7959770382564,\"fAbsPixeltoYk\":4.33433082451677,\"fPixeltoYk\":-0.816070120904935,\"fPixeltoY\":-0.0109118664097918,\"fXlowNDC\":0,\"fYlowNDC\":0,\"fXUpNDC\":0,\"fYUpNDC\":0,\"fWNDC\":1,\"fHNDC\":1,\"fAbsXlowNDC\":0,\"fAbsYlowNDC\":0,\"fAbsWNDC\":1,\"fAbsHNDC\":1,\"fUxmin\":0,\"fUymin\":-0.301029995663981,\"fUxmax\":1000,\"fUymax\":3.81929069927582,\"fTheta\":30,\"fPhi\":30,\"fAspectRatio\":0,\"fNumber\":0,\"fTickx\":0,\"fTicky\":0,\"fLogx\":0,\"fLogy\":1,\"fLogz\":0,\"fPadPaint\":0,\"fCrosshair\":0,\"fCrosshairPos\":0,\"fBorderSize\":2,\"fBorderMode\":0,\"fModified\":false,\"fGridx\":false,\"fGridy\":false,\"fAbsCoord\":false,\"fEditable\":true,\"fFixedAspectRatio\":false,\"fPrimitives\":{\"_typename\":\"TList\",\"name\":\"TList\",\"arr\":[{\"_typename\":\"TFrame\",\"fUniqueID\":0,\"fBits\":50331656,\"fLineColor\":1,\"fLineStyle\":1,\"fLineWidth\":1,\"fFillColor\":0,\"fFillStyle\":1001,\"fX1\":0,\"fY1\":-0.301029995663981,\"fX2\":1000,\"fY2\":3.81929069927582,\"fBorderSize\":1,\"fBorderMode\":0},{\"_typename\":\"TH1F\",\"fUniqueID\":0,\"fBits\":50331656,\"fName\":\"td787\",\"fTitle\":\"t {e>=786 && e<789}\",\"fLineColor\":602,\"fLineStyle\":1,\"fLineWidth\":1,\"fFillColor\":0,\"fFillStyle\":1001,\"fMarkerColor\":1,\"fMarkerStyle\":1,\"fMarkerSize\":1,\"fNcells\":102,\"fXaxis\":{\"_typename\":\"TAxis\",\"fUniqueID\":0,\"fBits\":54525952,\"fName\":\"xaxis\",\"fTitle\":\"\",\"fNdivisions\":510,\"fAxisColor\":1,\"fLabelColor\":1,\"fLabelFont\":42,\"fLabelOffset\":0.005,\"fLabelSize\":0.035,\"fTickLength\":0.03,\"fTitleOffset\":1,\"fTitleSize\":0.035,\"fTitleColor\":1,\"fTitleFont\":42,\"fNbins\":100,\"fXmin\":0,\"fXmax\":1000,\"fXbins\":[],\"fFirst\":0,\"fLast\":0,\"fBits2\":0,\"fTimeDisplay\":false,\"fTimeFormat\":\"\",\"fLabels\":null,\"fModLabs\":null},\"fYaxis\":{\"_typename\":\"TAxis\",\"fUniqueID\":0,\"fBits\":50331648,\"fName\":\"yaxis\",\"fTitle\":\"\",\"fNdivisions\":510,\"fAxisColor\":1,\"fLabelColor\":1,\"fLabelFont\":42,\"fLabelOffset\":0.005,\"fLabelSize\":0.035,\"fTickLength\":0.03,\"fTitleOffset\":0,\"fTitleSize\":0.035,\"fTitleColor\":1,\"fTitleFont\":42,\"fNbins\":1,\"fXmin\":0,\"fXmax\":1,\"fXbins\":[],\"fFirst\":0,\"fLast\":0,\"fBits2\":0,\"fTimeDisplay\":false,\"fTimeFormat\":\"\",\"fLabels\":null,\"fModLabs\":null},\"fZaxis\":{\"_typename\":\"TAxis\",\"fUniqueID\":0,\"fBits\":50331648,\"fName\":\"zaxis\",\"fTitle\":\"\",\"fNdivisions\":510,\"fAxisColor\":1,\"fLabelColor\":1,\"fLabelFont\":42,\"fLabelOffset\":0.005,\"fLabelSize\":0.035,\"fTickLength\":0.03,\"fTitleOffset\":1,\"fTitleSize\":0.035,\"fTitleColor\":1,\"fTitleFont\":42,\"fNbins\":1,\"fXmin\":0,\"fXmax\":1,\"fXbins\":[],\"fFirst\":0,\"fLast\":0,\"fBits2\":0,\"fTimeDisplay\":false,\"fTimeFormat\":\"\",\"fLabels\":null,\"fModLabs\":null},\"fBarOffset\":0,\"fBarWidth\":1000,\"fEntries\":53565,\"fTsumw\":53565,\"fTsumw2\":54101,\"fTsumwx\":8681005,\"fTsumwx2\":2125573525,\"fMaximum\":-1111,\"fMinimum\":-1111,\"fNormFactor\":0,\"fContour\":[],\"fSumw2\":[],\"fOption\":\"\",\"fFunctions\":{\"_typename\":\"TList\",\"name\":\"TList\",\"arr\":[{\"_typename\":\"TF1\",\"fUniqueID\":0,\"fBits\":50332672,\"fName\":\"f1\",\"fTitle\":\"[0]*TMath::Exp(-[1]*x)\",\"fLineColor\":2,\"fLineStyle\":1,\"fLineWidth\":2,\"fFillColor\":19,\"fFillStyle\":0,\"fMarkerColor\":1,\"fMarkerStyle\":1,\"fMarkerSize\":1,\"fXmin\":50,\"fXmax\":400,\"fNpar\":2,\"fNdim\":1,\"fNpx\":100,\"fType\":0,\"fNpfits\":35,\"fNDF\":33,\"fChisquare\":214.609926705592,\"fMinimum\":-1111,\"fMaximum\":-1111,\"fParErrors\":[49.3424228621577,5.22590596383667e-5],\"fParMin\":[0,0],\"fParMax\":[0,0],\"fSave\":[3611.58864359222,3519.88717693848,3430.51409256089,3343.41027075042,3258.51809290039,3175.78140339206,3095.14547244809,3016.55695992916,2939.9638800498,2865.31556699014,2792.56264138081,2721.65697763879,2652.55167213267,2585.20101215622,2519.5604456897,2455.586551929,2393.23701256311,2332.47058378074,2273.24706898791,2215.52729221811,2159.27307221765,2104.44719718906,2051.01340017566,1998.93633507129,1948.181553239,1898.71548072359,1850.50539604259,1803.51940854126,1757.72643729711,1713.09619056008,1669.59914571473,1627.20652975125,1585.89030023228,1545.62312674306,1506.37837281248,1468.13007829326,1430.8529421895,1394.52230592023,1359.11413700788,1324.60501318101,1290.97210688059,1258.19317015975,1226.24651996688,1195.11102380247,1164.76608574005,1135.19163280217,1106.36810168223,1078.27642580348,1050.89802270661,1024.21478175759,998.209052167584,972.863631317064,948.161753376413,924.087078215424,900.623680594416,877.756039629788,855.469028527059,833.747904574595,812.578299391396,791.946209422513,771.837986675783,752.240329693774,733.14027475496,714.525187298298,696.382753565557,678.700972455842,661.468147586946,644.67287955827,628.304058410194,612.350856274914,596.802720213873,581.649365237067,566.88076749959,552.487157670923,538.459014472592,524.787058379899,511.462245483579,498.475761507318,485.819015977159,473.483636538965,461.461463420162,449.7445440321,438.325127709471,427.19566058329,416.348780584068,405.777312571842,395.474263589873,385.432818238853,375.646334168554,366.108337683967,356.812519462989,347.75273038285,338.922977452508,330.317419848324,321.9303650504,313.756265077007,305.789712814636,298.02543844123,290.458305940226,283.083309703117,275.895571218274,50,400],\"fNormalized\":false,\"fNormIntegral\":0,\"fFormula\":{\"_typename\":\"TFormula\",\"fUniqueID\":0,\"fBits\":50332672,\"fName\":\"f1\",\"fTitle\":\"[0]*TMath::Exp(-[1]*x)\",\"fClingParameters\":[5215.10517644281,0.00734823026581397],\"fAllParametersSetted\":true,\"fParams\":[{\"$pair\":\"pair<TString,int,TFormulaParamOrder>\",\"first\":\"p0\",\"second\":0},{\"$pair\":\"pair<TString,int,TFormulaParamOrder>\",\"first\":\"p1\",\"second\":1}],\"fFormula\":\"[p0]*TMath::Exp(-[p1]*x)\",\"fNdim\":1,\"fLinearParts\":[],\"fVectorized\":false},\"fParams\":null,\"fComposition_ptr\":null},{\"_typename\":\"TPaveStats\",\"fUniqueID\":0,\"fBits\":50331657,\"fLineColor\":1,\"fLineStyle\":1,\"fLineWidth\":1,\"fFillColor\":0,\"fFillStyle\":1001,\"fX1\":850.000025331974,\"fY1\":3.17549064249567,\"fX2\":1100.00003278256,\"fY2\":3.99955477534387,\"fX1NDC\":0.780000016093254,\"fY1NDC\":0.775000005960464,\"fX2NDC\":0.980000019073486,\"fY2NDC\":0.935000002384186,\"fBorderSize\":1,\"fInit\":1,\"fShadowColor\":1,\"fCornerRadius\":0,\"fOption\":\"brNDC\",\"fName\":\"stats\",\"fTextAngle\":0,\"fTextSize\":0,\"fTextAlign\":12,\"fTextColor\":1,\"fTextFont\":42,\"fLabel\":\"\",\"fLongest\":18,\"fMargin\":0.05,\"fLines\":{\"_typename\":\"TList\",\"name\":\"TList\",\"arr\":[{\"_typename\":\"TLatex\",\"fUniqueID\":0,\"fBits\":50331648,\"fName\":\"\",\"fTitle\":\"td787\",\"fTextAngle\":0,\"fTextSize\":0.0368,\"fTextAlign\":0,\"fTextColor\":0,\"fTextFont\":0,\"fX\":0,\"fY\":0,\"fLineColor\":1,\"fLineStyle\":1,\"fLineWidth\":2,\"fLimitFactorSize\":3,\"fOriginSize\":0.0368000008165836},{\"_typename\":\"TLatex\",\"fUniqueID\":0,\"fBits\":50331648,\"fName\":\"\",\"fTitle\":\"Entries = 53565  \",\"fTextAngle\":0,\"fTextSize\":0,\"fTextAlign\":0,\"fTextColor\":0,\"fTextFont\":0,\"fX\":0,\"fY\":0,\"fLineColor\":1,\"fLineStyle\":1,\"fLineWidth\":2,\"fLimitFactorSize\":3,\"fOriginSize\":0.04},{\"_typename\":\"TLatex\",\"fUniqueID\":0,\"fBits\":50331648,\"fName\":\"\",\"fTitle\":\"Mean  =  162.1\",\"fTextAngle\":0,\"fTextSize\":0,\"fTextAlign\":0,\"fTextColor\":0,\"fTextFont\":0,\"fX\":0,\"fY\":0,\"fLineColor\":1,\"fLineStyle\":1,\"fLineWidth\":2,\"fLimitFactorSize\":3,\"fOriginSize\":0.04},{\"_typename\":\"TLatex\",\"fUniqueID\":0,\"fBits\":50331648,\"fName\":\"\",\"fTitle\":\"Std Dev   =  115.8\",\"fTextAngle\":0,\"fTextSize\":0,\"fTextAlign\":0,\"fTextColor\":0,\"fTextFont\":0,\"fX\":0,\"fY\":0,\"fLineColor\":1,\"fLineStyle\":1,\"fLineWidth\":2,\"fLimitFactorSize\":3,\"fOriginSize\":0.04}],\"opt\":[\"\",\"\",\"\",\"\"]},\"fOptFit\":0,\"fOptStat\":1111,\"fFitFormat\":\"5.4g\",\"fStatFormat\":\"6.4g\",\"fParent\":{\"$ref\":3}}],\"opt\":[\"\",\"brNDC\"]},\"fBufferSize\":0,\"fBuffer\":[],\"fBinStatErrOpt\":0,\"fStatOverflows\":2,\"fArray\":[0,0,0,0,2279,3086,3046,3204,2862,2899,2642,2571,2410,2352,1980,1774,1687,1594,1366,1358,1352,1286,1089,968,947,849,794,743,661,570,601,555,474,467,530,388,340,335,382,289,234,113,148,235,226,160,147,168,112,161,148,137,62,79,105,87,77,23,44,47,44,41,29,36,33,38,-39,-38,12,38,24,14,24,8,1,11,16,9,29,22,-24,-1,8,0,-16,-23,-21,35,11,-12,12,19,26,-17,7,3,-8,10,30,-56,-13,-68]},{\"_typename\":\"TPaveText\",\"fUniqueID\":0,\"fBits\":50331657,\"fLineColor\":1,\"fLineStyle\":1,\"fLineWidth\":1,\"fFillColor\":0,\"fFillStyle\":0,\"fX1\":280.96264041425,\"fY1\":4.00741133143844,\"fX2\":719.03735958575,\"fY2\":4.30857884434869,\"fX1NDC\":0.324770114942529,\"fY1NDC\":0.936525428497185,\"fX2NDC\":0.675229885057471,\"fY2NDC\":0.995000004768372,\"fBorderSize\":0,\"fInit\":1,\"fShadowColor\":1,\"fCornerRadius\":0,\"fOption\":\"blNDC\",\"fName\":\"title\",\"fTextAngle\":0,\"fTextSize\":0,\"fTextAlign\":22,\"fTextColor\":1,\"fTextFont\":42,\"fLabel\":\"\",\"fLongest\":19,\"fMargin\":0.05,\"fLines\":{\"_typename\":\"TList\",\"name\":\"TList\",\"arr\":[{\"_typename\":\"TLatex\",\"fUniqueID\":0,\"fBits\":50331648,\"fName\":\"\",\"fTitle\":\"t {e>=786 && e<789}\",\"fTextAngle\":0,\"fTextSize\":0,\"fTextAlign\":0,\"fTextColor\":0,\"fTextFont\":0,\"fX\":0,\"fY\":0,\"fLineColor\":1,\"fLineStyle\":1,\"fLineWidth\":2,\"fLimitFactorSize\":3,\"fOriginSize\":0.0497033894062042}],\"opt\":[\"\"]}}],\"opt\":[\"\",\"\",\"blNDC\"]},\"fExecs\":null,\"fName\":\"c1\",\"fTitle\":\"c1\",\"fNumPaletteColor\":0,\"fNextPaletteColor\":0,\"fDISPLAY\":\"$DISPLAY\",\"fDoubleBuffer\":0,\"fRetained\":true,\"fXsizeUser\":0,\"fYsizeUser\":0,\"fXsizeReal\":20,\"fYsizeReal\":14.28571,\"fWindowTopX\":0,\"fWindowTopY\":0,\"fWindowWidth\":0,\"fWindowHeight\":0,\"fCw\":696,\"fCh\":472,\"fCatt\":{\"_typename\":\"TAttCanvas\",\"fXBetween\":2,\"fYBetween\":2,\"fTitleFromTop\":1.2,\"fXdate\":0.2,\"fYdate\":0.3,\"fAdate\":1},\"kMoveOpaque\":true,\"kResizeOpaque\":true,\"fHighLightColor\":2,\"fBatch\":true,\"kShowEventStatus\":false,\"kAutoExec\":true,\"kMenuBar\":true});\n",
       "       Core.draw(\"root_plot_4\", obj, \"\");\n",
       "     }\n",
       " );\n",
       "</script>\n"
      ],
      "text/plain": [
       "<IPython.core.display.HTML object>"
      ]
     },
     "metadata": {},
     "output_type": "display_data"
    },
    {
     "name": "stdout",
     "output_type": "stream",
     "text": [
      " FCN=214.61 FROM MIGRAD    STATUS=CONVERGED      73 CALLS          74 TOTAL\n",
      "                     EDM=5.10277e-07    STRATEGY= 1      ERROR MATRIX ACCURATE \n",
      "  EXT PARAMETER                                   STEP         FIRST   \n",
      "  NO.   NAME      VALUE            ERROR          SIZE      DERIVATIVE \n",
      "   1  p0           5.21511e+03   4.93424e+01   1.75368e-01  -3.53788e-05\n",
      "   2  p1           7.34823e-03   5.22591e-05   1.85684e-07   1.90516e+01\n",
      "halflife: 94.3285 +- 0.670844 ns"
     ]
    }
   ],
   "source": [
    "cut = \"e>=786 && e<789\";\n",
    "cutb = \"(e>=778 && e<780) || (e>=790 && e<791)\";\n",
    "\n",
    "tree->Draw(\"t>>td787(100,0,1000)\",cut);\n",
    "TH1D *td787 = (TH1D*)gROOT->FindObject(\"td787\");\n",
    "tree->Draw(\"t>>tdb787(100,0,1000)\",cutb);\n",
    "TH1D *tdb787 = (TH1D*)gROOT->FindObject(\"tdb787\");\n",
    "td787->Add(td787,tdb787,1,-1);\n",
    "\n",
    "td787->Fit(\"f1\",\"R\");\n",
    "td787->Draw();\n",
    "c2->SetLogy();\n",
    "c2->Draw();\n",
    "\n",
    "cout<<\"halflife: \"<<log(2)/f1->GetParameter(1)<<\" +- \"<<log(2)/f1->GetParameter(1)/f1->GetParameter(1)*f1->GetParError(1)<<\" ns\";"
   ]
  },
  {
   "cell_type": "code",
   "execution_count": 7,
   "metadata": {},
   "outputs": [
    {
     "name": "stdout",
     "output_type": "stream",
     "text": [
      " FCN=339.013 FROM MIGRAD    STATUS=CONVERGED      57 CALLS          58 TOTAL\n",
      "                     EDM=1.15116e-08    STRATEGY= 1      ERROR MATRIX ACCURATE \n",
      "  EXT PARAMETER                                   STEP         FIRST   \n",
      "  NO.   NAME      VALUE            ERROR          SIZE      DERIVATIVE \n",
      "   1  p0           1.66101e+03   2.56449e+01   1.14344e-01   9.08389e-06\n",
      "   2  p1           6.30560e-03   8.11116e-05   3.61702e-07  -3.70992e+00\n"
     ]
    },
    {
     "data": {
      "text/html": [
       "\n",
       "<div id=\"root_plot_5\"\n",
       "     style=\"width: 696px; height: 472px\">\n",
       "</div>\n",
       "\n",
       "<script>\n",
       " requirejs.config({\n",
       "     paths: {\n",
       "       'JSRootCore' : 'https://root.cern.ch/js/notebook//scripts/JSRootCore',\n",
       "     }\n",
       "   });\n",
       " require(['JSRootCore'],\n",
       "     function(Core) {\n",
       "       var obj = Core.JSONR_unref({\"_typename\":\"TCanvas\",\"fUniqueID\":0,\"fBits\":53673992,\"fLineColor\":1,\"fLineStyle\":1,\"fLineWidth\":1,\"fFillColor\":0,\"fFillStyle\":1001,\"fLeftMargin\":0.1,\"fRightMargin\":0.1,\"fBottomMargin\":0.1,\"fTopMargin\":0.1,\"fXfile\":2,\"fYfile\":2,\"fAfile\":1,\"fXstat\":0.99,\"fYstat\":0.99,\"fAstat\":2,\"fFrameFillColor\":0,\"fFrameLineColor\":1,\"fFrameFillStyle\":1001,\"fFrameLineStyle\":1,\"fFrameLineWidth\":1,\"fFrameBorderSize\":1,\"fFrameBorderMode\":0,\"fX1\":-125.000009313226,\"fY1\":-0.757071661965693,\"fX2\":1125.00000931323,\"fY2\":3.80334472922941,\"fXtoAbsPixelk\":69.6000541484835,\"fXtoPixelk\":69.6000541484835,\"fXtoPixel\":0.556799991703033,\"fYtoAbsPixelk\":393.643647032559,\"fYtoPixelk\":393.643647032559,\"fYtoPixel\":-103.499321007463,\"fUtoAbsPixelk\":5e-5,\"fUtoPixelk\":5e-5,\"fUtoPixel\":696,\"fVtoAbsPixelk\":472.00005,\"fVtoPixelk\":472,\"fVtoPixel\":-472,\"fAbsPixeltoXk\":-125.000009313226,\"fPixeltoXk\":-125.000009313226,\"fPixeltoX\":1.7959770382564,\"fAbsPixeltoYk\":3.80334472922941,\"fPixeltoYk\":-0.757071661965693,\"fPixeltoY\":-0.00966189913388793,\"fXlowNDC\":0,\"fYlowNDC\":0,\"fXUpNDC\":0,\"fYUpNDC\":0,\"fWNDC\":1,\"fHNDC\":1,\"fAbsXlowNDC\":0,\"fAbsYlowNDC\":0,\"fAbsWNDC\":1,\"fAbsHNDC\":1,\"fUxmin\":0,\"fUymin\":-0.301029995663981,\"fUxmax\":1000,\"fUymax\":3.3473030629277,\"fTheta\":30,\"fPhi\":30,\"fAspectRatio\":0,\"fNumber\":0,\"fTickx\":0,\"fTicky\":0,\"fLogx\":0,\"fLogy\":1,\"fLogz\":0,\"fPadPaint\":0,\"fCrosshair\":0,\"fCrosshairPos\":0,\"fBorderSize\":2,\"fBorderMode\":0,\"fModified\":false,\"fGridx\":false,\"fGridy\":false,\"fAbsCoord\":false,\"fEditable\":true,\"fFixedAspectRatio\":false,\"fPrimitives\":{\"_typename\":\"TList\",\"name\":\"TList\",\"arr\":[{\"_typename\":\"TFrame\",\"fUniqueID\":0,\"fBits\":50331656,\"fLineColor\":1,\"fLineStyle\":1,\"fLineWidth\":1,\"fFillColor\":0,\"fFillStyle\":1001,\"fX1\":0,\"fY1\":-0.301029995663981,\"fX2\":1000,\"fY2\":3.3473030629277,\"fBorderSize\":1,\"fBorderMode\":0},{\"_typename\":\"TH1F\",\"fUniqueID\":0,\"fBits\":50331656,\"fName\":\"td1048\",\"fTitle\":\"t {e>=1046 && e<1049}\",\"fLineColor\":602,\"fLineStyle\":1,\"fLineWidth\":1,\"fFillColor\":0,\"fFillStyle\":1001,\"fMarkerColor\":1,\"fMarkerStyle\":1,\"fMarkerSize\":1,\"fNcells\":102,\"fXaxis\":{\"_typename\":\"TAxis\",\"fUniqueID\":0,\"fBits\":54525952,\"fName\":\"xaxis\",\"fTitle\":\"\",\"fNdivisions\":510,\"fAxisColor\":1,\"fLabelColor\":1,\"fLabelFont\":42,\"fLabelOffset\":0.005,\"fLabelSize\":0.035,\"fTickLength\":0.03,\"fTitleOffset\":1,\"fTitleSize\":0.035,\"fTitleColor\":1,\"fTitleFont\":42,\"fNbins\":100,\"fXmin\":0,\"fXmax\":1000,\"fXbins\":[],\"fFirst\":0,\"fLast\":0,\"fBits2\":0,\"fTimeDisplay\":false,\"fTimeFormat\":\"\",\"fLabels\":null,\"fModLabs\":null},\"fYaxis\":{\"_typename\":\"TAxis\",\"fUniqueID\":0,\"fBits\":50331648,\"fName\":\"yaxis\",\"fTitle\":\"\",\"fNdivisions\":510,\"fAxisColor\":1,\"fLabelColor\":1,\"fLabelFont\":42,\"fLabelOffset\":0.005,\"fLabelSize\":0.035,\"fTickLength\":0.03,\"fTitleOffset\":0,\"fTitleSize\":0.035,\"fTitleColor\":1,\"fTitleFont\":42,\"fNbins\":1,\"fXmin\":0,\"fXmax\":1,\"fXbins\":[],\"fFirst\":0,\"fLast\":0,\"fBits2\":0,\"fTimeDisplay\":false,\"fTimeFormat\":\"\",\"fLabels\":null,\"fModLabs\":null},\"fZaxis\":{\"_typename\":\"TAxis\",\"fUniqueID\":0,\"fBits\":50331648,\"fName\":\"zaxis\",\"fTitle\":\"\",\"fNdivisions\":510,\"fAxisColor\":1,\"fLabelColor\":1,\"fLabelFont\":42,\"fLabelOffset\":0.005,\"fLabelSize\":0.035,\"fTickLength\":0.03,\"fTitleOffset\":1,\"fTitleSize\":0.035,\"fTitleColor\":1,\"fTitleFont\":42,\"fNbins\":1,\"fXmin\":0,\"fXmax\":1,\"fXbins\":[],\"fFirst\":0,\"fLast\":0,\"fBits2\":0,\"fTimeDisplay\":false,\"fTimeFormat\":\"\",\"fLabels\":null,\"fModLabs\":null},\"fBarOffset\":0,\"fBarWidth\":1000,\"fEntries\":20453,\"fTsumw\":20453,\"fTsumw2\":20861,\"fTsumwx\":3869275,\"fTsumwx2\":1137707525,\"fMaximum\":-1111,\"fMinimum\":-1111,\"fNormFactor\":0,\"fContour\":[],\"fSumw2\":[],\"fOption\":\"\",\"fFunctions\":{\"_typename\":\"TList\",\"name\":\"TList\",\"arr\":[{\"_typename\":\"TF1\",\"fUniqueID\":0,\"fBits\":50332672,\"fName\":\"f1\",\"fTitle\":\"[0]*TMath::Exp(-[1]*x)\",\"fLineColor\":2,\"fLineStyle\":1,\"fLineWidth\":2,\"fFillColor\":19,\"fFillStyle\":0,\"fMarkerColor\":1,\"fMarkerStyle\":1,\"fMarkerSize\":1,\"fXmin\":50,\"fXmax\":400,\"fNpar\":2,\"fNdim\":1,\"fNpx\":100,\"fType\":0,\"fNpfits\":35,\"fNDF\":33,\"fChisquare\":339.013427673665,\"fMinimum\":-1111,\"fMaximum\":-1111,\"fParErrors\":[25.6448897611363,8.11116311308443e-5],\"fParMin\":[0,0],\"fParMax\":[0,0],\"fSave\":[1211.84366958584,1185.39173197152,1159.51718319135,1134.20742009047,1109.45011461378,1085.23320780104,1061.54490391317,1038.37366468666,1015.70820371344,993.537480943424,971.850697307061,950.637289455216,929.886924613924,909.589495551423,889.735115655054,870.314114115621,851.31703121687,832.734613727778,814.55781039543,796.777767536271,779.385824723589,762.37351056914,745.732538596842,729.454803206538,713.532375725871,697.957500548325,682.722591355574,667.820227422281,653.243150001567,638.984258789362,625.036608465945,611.393405312969,598.048003904326,584.993903869251,572.224746726073,559.734312785083,547.516518119006,535.565411599595,523.875171998919,512.440105153917,501.254641192844,490.31333182226,479.610847673241,469.141975705506,458.90161666822,448.884782616211,439.08659448041,429.502279691317,420.127169854348,410.956698475918,401.986398739165,393.211901328217,384.628932299962,376.233311002259,368.020948037602,359.987843271225,352.13008388269,344.443842460005,336.925375135335,329.571019761422,322.377194127793,315.340394215918,308.457192492444,301.724236239689,295.138245922582,288.696013591234,282.3944013184,276.230339671026,270.200826215171,264.302924053563,258.533760395071,252.890525155411,247.370469588384,241.970904947003,236.689201173837,231.522785619945,226.469141791772,221.5258081254,216.690376787546,211.960492502746,207.333851406127,202.808199921224,198.381333662293,194.051096360584,189.81537881405,185.672117859983,181.619295370075,177.654937267409,173.777112564922,169.983932424834,166.27354923863,162.64415572711,159.093984060085,155.621304995293,152.224427036107,148.90169560763,145.651492250768,142.472233833907,139.362371781787,136.320391321209,133.344810743211,50,400],\"fNormalized\":false,\"fNormIntegral\":0,\"fFormula\":{\"_typename\":\"TFormula\",\"fUniqueID\":0,\"fBits\":50332672,\"fName\":\"f1\",\"fTitle\":\"[0]*TMath::Exp(-[1]*x)\",\"fClingParameters\":[1661.00504943704,0.00630559953574413],\"fAllParametersSetted\":true,\"fParams\":[{\"$pair\":\"pair<TString,int,TFormulaParamOrder>\",\"first\":\"p0\",\"second\":0},{\"$pair\":\"pair<TString,int,TFormulaParamOrder>\",\"first\":\"p1\",\"second\":1}],\"fFormula\":\"[p0]*TMath::Exp(-[p1]*x)\",\"fNdim\":1,\"fLinearParts\":[],\"fVectorized\":false},\"fParams\":null,\"fComposition_ptr\":null},{\"_typename\":\"TPaveStats\",\"fUniqueID\":0,\"fBits\":50331657,\"fLineColor\":1,\"fLineStyle\":1,\"fLineWidth\":1,\"fFillColor\":0,\"fFillStyle\":1001,\"fX1\":850.000025331974,\"fY1\":2.77725106839271,\"fX2\":1100.00003278256,\"fY2\":3.50691767467461,\"fX1NDC\":0.780000016093254,\"fY1NDC\":0.775000005960464,\"fX2NDC\":0.980000019073486,\"fY2NDC\":0.935000002384186,\"fBorderSize\":1,\"fInit\":1,\"fShadowColor\":1,\"fCornerRadius\":0,\"fOption\":\"brNDC\",\"fName\":\"stats\",\"fTextAngle\":0,\"fTextSize\":0,\"fTextAlign\":12,\"fTextColor\":1,\"fTextFont\":42,\"fLabel\":\"\",\"fLongest\":18,\"fMargin\":0.05,\"fLines\":{\"_typename\":\"TList\",\"name\":\"TList\",\"arr\":[{\"_typename\":\"TLatex\",\"fUniqueID\":0,\"fBits\":50331648,\"fName\":\"\",\"fTitle\":\"td1048\",\"fTextAngle\":0,\"fTextSize\":0.0368,\"fTextAlign\":0,\"fTextColor\":0,\"fTextFont\":0,\"fX\":0,\"fY\":0,\"fLineColor\":1,\"fLineStyle\":1,\"fLineWidth\":2,\"fLimitFactorSize\":3,\"fOriginSize\":0.0368000008165836},{\"_typename\":\"TLatex\",\"fUniqueID\":0,\"fBits\":50331648,\"fName\":\"\",\"fTitle\":\"Entries = 20453  \",\"fTextAngle\":0,\"fTextSize\":0,\"fTextAlign\":0,\"fTextColor\":0,\"fTextFont\":0,\"fX\":0,\"fY\":0,\"fLineColor\":1,\"fLineStyle\":1,\"fLineWidth\":2,\"fLimitFactorSize\":3,\"fOriginSize\":0.04},{\"_typename\":\"TLatex\",\"fUniqueID\":0,\"fBits\":50331648,\"fName\":\"\",\"fTitle\":\"Mean  =  189.2\",\"fTextAngle\":0,\"fTextSize\":0,\"fTextAlign\":0,\"fTextColor\":0,\"fTextFont\":0,\"fX\":0,\"fY\":0,\"fLineColor\":1,\"fLineStyle\":1,\"fLineWidth\":2,\"fLimitFactorSize\":3,\"fOriginSize\":0.04},{\"_typename\":\"TLatex\",\"fUniqueID\":0,\"fBits\":50331648,\"fName\":\"\",\"fTitle\":\"Std Dev   =  140.8\",\"fTextAngle\":0,\"fTextSize\":0,\"fTextAlign\":0,\"fTextColor\":0,\"fTextFont\":0,\"fX\":0,\"fY\":0,\"fLineColor\":1,\"fLineStyle\":1,\"fLineWidth\":2,\"fLimitFactorSize\":3,\"fOriginSize\":0.04}],\"opt\":[\"\",\"\",\"\",\"\"]},\"fOptFit\":0,\"fOptStat\":1111,\"fFitFormat\":\"5.4g\",\"fStatFormat\":\"6.4g\",\"fParent\":{\"$ref\":3}}],\"opt\":[\"\",\"brNDC\"]},\"fBufferSize\":0,\"fBuffer\":[],\"fBinStatErrOpt\":0,\"fStatOverflows\":2,\"fArray\":[0,0,0,0,414,847,871,1053,1132,1020,1094,903,866,794,820,732,749,545,481,503,503,386,418,450,383,387,275,364,300,311,244,255,229,222,169,179,217,198,85,157,145,129,97,122,112,64,104,91,44,100,22,72,68,34,91,39,43,75,-14,50,40,26,18,35,32,14,46,-25,32,19,20,-9,15,23,-8,35,54,-14,-8,22,22,-24,-27,0,-25,14,-9,25,8,9,1,-8,-6,4,12,11,-16,-11,35,4,23,63]},{\"_typename\":\"TPaveText\",\"fUniqueID\":0,\"fBits\":50331657,\"fLineColor\":1,\"fLineStyle\":1,\"fLineWidth\":1,\"fFillColor\":0,\"fFillStyle\":0,\"fX1\":257.614938916917,\"fY1\":3.51387425292389,\"fX2\":742.385061083083,\"fY2\":3.7805426690192,\"fX1NDC\":0.306091954022988,\"fY1NDC\":0.936525428497185,\"fX2NDC\":0.693908045977012,\"fY2NDC\":0.995000004768372,\"fBorderSize\":0,\"fInit\":1,\"fShadowColor\":1,\"fCornerRadius\":0,\"fOption\":\"blNDC\",\"fName\":\"title\",\"fTextAngle\":0,\"fTextSize\":0,\"fTextAlign\":22,\"fTextColor\":1,\"fTextFont\":42,\"fLabel\":\"\",\"fLongest\":21,\"fMargin\":0.05,\"fLines\":{\"_typename\":\"TList\",\"name\":\"TList\",\"arr\":[{\"_typename\":\"TLatex\",\"fUniqueID\":0,\"fBits\":50331648,\"fName\":\"\",\"fTitle\":\"t {e>=1046 && e<1049}\",\"fTextAngle\":0,\"fTextSize\":0,\"fTextAlign\":0,\"fTextColor\":0,\"fTextFont\":0,\"fX\":0,\"fY\":0,\"fLineColor\":1,\"fLineStyle\":1,\"fLineWidth\":2,\"fLimitFactorSize\":3,\"fOriginSize\":0.0497033894062042}],\"opt\":[\"\"]}}],\"opt\":[\"\",\"\",\"blNDC\"]},\"fExecs\":null,\"fName\":\"c1\",\"fTitle\":\"c1\",\"fNumPaletteColor\":0,\"fNextPaletteColor\":0,\"fDISPLAY\":\"$DISPLAY\",\"fDoubleBuffer\":0,\"fRetained\":true,\"fXsizeUser\":0,\"fYsizeUser\":0,\"fXsizeReal\":20,\"fYsizeReal\":14.28571,\"fWindowTopX\":0,\"fWindowTopY\":0,\"fWindowWidth\":0,\"fWindowHeight\":0,\"fCw\":696,\"fCh\":472,\"fCatt\":{\"_typename\":\"TAttCanvas\",\"fXBetween\":2,\"fYBetween\":2,\"fTitleFromTop\":1.2,\"fXdate\":0.2,\"fYdate\":0.3,\"fAdate\":1},\"kMoveOpaque\":true,\"kResizeOpaque\":true,\"fHighLightColor\":2,\"fBatch\":true,\"kShowEventStatus\":false,\"kAutoExec\":true,\"kMenuBar\":true});\n",
       "       Core.draw(\"root_plot_5\", obj, \"\");\n",
       "     }\n",
       " );\n",
       "</script>\n"
      ],
      "text/plain": [
       "<IPython.core.display.HTML object>"
      ]
     },
     "metadata": {},
     "output_type": "display_data"
    },
    {
     "name": "stdout",
     "output_type": "stream",
     "text": [
      "halflife: 109.926 +- 1.41402 ns"
     ]
    }
   ],
   "source": [
    "cut = \"e>=1046 && e<1049\";\n",
    "cutb = \"(e>=1044 && e<1046) || (e>=1049 && e<1050)\";\n",
    "\n",
    "tree->Draw(\"t>>td1048(100,0,1000)\",cut);\n",
    "TH1D *td1048 = (TH1D*)gROOT->FindObject(\"td1048\");\n",
    "tree->Draw(\"t>>tdb1048(100,0,1000)\",cutb);\n",
    "TH1D *tdb1048 = (TH1D*)gROOT->FindObject(\"tdb1048\");\n",
    "td1048->Add(td1048,tdb1048,1,-1);\n",
    "\n",
    "td1048->Fit(\"f1\",\"R\");\n",
    "td1048->Draw();\n",
    "c2->SetLogy();\n",
    "c2->Draw();\n",
    "\n",
    "cout<<\"halflife: \"<<log(2)/f1->GetParameter(1)<<\" +- \"<<log(2)/f1->GetParameter(1)/f1->GetParameter(1)*f1->GetParError(1)<<\" ns\";"
   ]
  },
  {
   "cell_type": "code",
   "execution_count": 8,
   "metadata": {},
   "outputs": [
    {
     "data": {
      "text/html": [
       "\n",
       "<div id=\"root_plot_6\"\n",
       "     style=\"width: 696px; height: 472px\">\n",
       "</div>\n",
       "\n",
       "<script>\n",
       " requirejs.config({\n",
       "     paths: {\n",
       "       'JSRootCore' : 'https://root.cern.ch/js/notebook//scripts/JSRootCore',\n",
       "     }\n",
       "   });\n",
       " require(['JSRootCore'],\n",
       "     function(Core) {\n",
       "       var obj = Core.JSONR_unref({\"_typename\":\"TCanvas\",\"fUniqueID\":0,\"fBits\":53673992,\"fLineColor\":1,\"fLineStyle\":1,\"fLineWidth\":1,\"fFillColor\":0,\"fFillStyle\":1001,\"fLeftMargin\":0.1,\"fRightMargin\":0.1,\"fBottomMargin\":0.1,\"fTopMargin\":0.1,\"fXfile\":2,\"fYfile\":2,\"fAfile\":1,\"fXstat\":0.99,\"fYstat\":0.99,\"fAstat\":2,\"fFrameFillColor\":0,\"fFrameLineColor\":1,\"fFrameFillStyle\":1001,\"fFrameLineStyle\":1,\"fFrameLineWidth\":1,\"fFrameBorderSize\":1,\"fFrameBorderMode\":0,\"fX1\":-125.000009313226,\"fY1\":-0.885650876385454,\"fX2\":1125.00000931323,\"fY2\":4.96055758236808,\"fXtoAbsPixelk\":69.6000541484835,\"fXtoPixelk\":69.6000541484835,\"fXtoPixel\":0.556799991703033,\"fYtoAbsPixelk\":400.496062996591,\"fYtoPixelk\":400.496062996591,\"fYtoPixel\":-80.7360878986916,\"fUtoAbsPixelk\":5e-5,\"fUtoPixelk\":5e-5,\"fUtoPixel\":696,\"fVtoAbsPixelk\":472.00005,\"fVtoPixelk\":472,\"fVtoPixel\":-472,\"fAbsPixeltoXk\":-125.000009313226,\"fPixeltoXk\":-125.000009313226,\"fPixeltoX\":1.7959770382564,\"fAbsPixeltoYk\":4.96055758236808,\"fPixeltoYk\":-0.885650876385454,\"fPixeltoY\":-0.0123860348702405,\"fXlowNDC\":0,\"fYlowNDC\":0,\"fXUpNDC\":0,\"fYUpNDC\":0,\"fWNDC\":1,\"fHNDC\":1,\"fAbsXlowNDC\":0,\"fAbsYlowNDC\":0,\"fAbsWNDC\":1,\"fAbsHNDC\":1,\"fUxmin\":0,\"fUymin\":-0.301029995663981,\"fUxmax\":1000,\"fUymax\":4.37593670164661,\"fTheta\":30,\"fPhi\":30,\"fAspectRatio\":0,\"fNumber\":0,\"fTickx\":0,\"fTicky\":0,\"fLogx\":0,\"fLogy\":1,\"fLogz\":0,\"fPadPaint\":0,\"fCrosshair\":0,\"fCrosshairPos\":0,\"fBorderSize\":2,\"fBorderMode\":0,\"fModified\":false,\"fGridx\":false,\"fGridy\":false,\"fAbsCoord\":false,\"fEditable\":true,\"fFixedAspectRatio\":false,\"fPrimitives\":{\"_typename\":\"TList\",\"name\":\"TList\",\"arr\":[{\"_typename\":\"TFrame\",\"fUniqueID\":0,\"fBits\":50331656,\"fLineColor\":1,\"fLineStyle\":1,\"fLineWidth\":1,\"fFillColor\":0,\"fFillStyle\":1001,\"fX1\":0,\"fY1\":-0.301029995663981,\"fX2\":1000,\"fY2\":4.37593670164661,\"fBorderSize\":1,\"fBorderMode\":0},{\"_typename\":\"TH1D\",\"fUniqueID\":0,\"fBits\":50331656,\"fName\":\"td\",\"fTitle\":\"\",\"fLineColor\":602,\"fLineStyle\":1,\"fLineWidth\":1,\"fFillColor\":0,\"fFillStyle\":1001,\"fMarkerColor\":1,\"fMarkerStyle\":1,\"fMarkerSize\":1,\"fNcells\":102,\"fXaxis\":{\"_typename\":\"TAxis\",\"fUniqueID\":0,\"fBits\":50331648,\"fName\":\"xaxis\",\"fTitle\":\"\",\"fNdivisions\":510,\"fAxisColor\":1,\"fLabelColor\":1,\"fLabelFont\":42,\"fLabelOffset\":0.005,\"fLabelSize\":0.035,\"fTickLength\":0.03,\"fTitleOffset\":1,\"fTitleSize\":0.035,\"fTitleColor\":1,\"fTitleFont\":42,\"fNbins\":100,\"fXmin\":0,\"fXmax\":1000,\"fXbins\":[],\"fFirst\":0,\"fLast\":0,\"fBits2\":0,\"fTimeDisplay\":false,\"fTimeFormat\":\"\",\"fLabels\":null,\"fModLabs\":null},\"fYaxis\":{\"_typename\":\"TAxis\",\"fUniqueID\":0,\"fBits\":50331648,\"fName\":\"yaxis\",\"fTitle\":\"\",\"fNdivisions\":510,\"fAxisColor\":1,\"fLabelColor\":1,\"fLabelFont\":42,\"fLabelOffset\":0.005,\"fLabelSize\":0.035,\"fTickLength\":0.03,\"fTitleOffset\":0,\"fTitleSize\":0.035,\"fTitleColor\":1,\"fTitleFont\":42,\"fNbins\":1,\"fXmin\":0,\"fXmax\":1,\"fXbins\":[],\"fFirst\":0,\"fLast\":0,\"fBits2\":0,\"fTimeDisplay\":false,\"fTimeFormat\":\"\",\"fLabels\":null,\"fModLabs\":null},\"fZaxis\":{\"_typename\":\"TAxis\",\"fUniqueID\":0,\"fBits\":50331648,\"fName\":\"zaxis\",\"fTitle\":\"\",\"fNdivisions\":510,\"fAxisColor\":1,\"fLabelColor\":1,\"fLabelFont\":42,\"fLabelOffset\":0.005,\"fLabelSize\":0.035,\"fTickLength\":0.03,\"fTitleOffset\":1,\"fTitleSize\":0.035,\"fTitleColor\":1,\"fTitleFont\":42,\"fNbins\":1,\"fXmin\":0,\"fXmax\":1,\"fXbins\":[],\"fFirst\":0,\"fLast\":0,\"fBits2\":0,\"fTimeDisplay\":false,\"fTimeFormat\":\"\",\"fLabels\":null,\"fModLabs\":null},\"fBarOffset\":0,\"fBarWidth\":1000,\"fEntries\":194773,\"fTsumw\":194773,\"fTsumw2\":197261,\"fTsumwx\":31750725,\"fTsumwx2\":8095540125,\"fMaximum\":-1111,\"fMinimum\":-1111,\"fNormFactor\":0,\"fContour\":[],\"fSumw2\":[],\"fOption\":\"\",\"fFunctions\":{\"_typename\":\"TList\",\"name\":\"TList\",\"arr\":[{\"_typename\":\"TF1\",\"fUniqueID\":0,\"fBits\":50332672,\"fName\":\"f1\",\"fTitle\":\"[0]*TMath::Exp(-[1]*x)\",\"fLineColor\":2,\"fLineStyle\":1,\"fLineWidth\":2,\"fFillColor\":19,\"fFillStyle\":0,\"fMarkerColor\":1,\"fMarkerStyle\":1,\"fMarkerSize\":1,\"fXmin\":50,\"fXmax\":400,\"fNpar\":2,\"fNdim\":1,\"fNpx\":100,\"fType\":0,\"fNpfits\":35,\"fNDF\":33,\"fChisquare\":232.525332305746,\"fMinimum\":-1111,\"fMaximum\":-1111,\"fParErrors\":[96.453681080981,2.8483831119395e-5],\"fParMin\":[0,0],\"fParMax\":[0,0],\"fSave\":[13019.6610218982,12683.857798934,12356.7156159433,12038.0110872996,11727.5265889401,11425.0501097645,11130.3751068643,10843.3003644882,10563.6298566432,10291.1726132407,10025.7425896944,9767.15853988189,9515.24389238237,9269.82662990693,9030.7391718382,8797.81825979972,8570.90484617666,8349.84398551179,8134.48472870264,7924.68001992742,7720.28659622954,7521.16488969195,7327.1789321347,7138.19626227042,6954.08783525456,6774.72793456843,6599.99408617504,6429.76697488892,6263.93036290302,6102.37101041694,5944.9785983123,5791.64565282249,5642.26747214534,5496.74205494855,5354.97003071919,5216.85459190955,5082.30142783313,4951.21866026557,4823.51678070655,4699.10858925987,4577.90913508989,4459.83565841374,4344.80753398968,4232.74621606298,4123.57518473176,4017.21989369621,3913.60771935541,3812.66791121703,3714.33154358615,3618.53146850001,3525.2022698768,3434.28021884687,3345.70323023624,3259.4108201723,3175.3440647831,3093.44555996174,3013.65938216861,2935.93105024457,2860.20748820908,2786.43698901778,2714.56917925491,2644.55498473633,2576.34659699975,2509.89744065918,2445.16214160144,2382.09649600293,2320.65744014547,2260.80302101075,2202.49236763308,2145.68566319114,2090.34411781943,2036.42994212105,1983.90632136357,1932.73739034053,1882.88820888118,1834.32473799203,1787.01381661361,1740.92313897683,1696.02123254332,1652.27743651469,1609.66188089619,1568.14546610026,1527.69984307617,1488.29739395218,1449.91121317699,1412.5150891475,1376.08348631057,1340.59152772626,1306.01497808094,1272.33022713838,1239.51427361784,1207.5447094878,1176.39970466491,1146.05799210756,1116.49885329386,1087.70210407425,1059.64808088895,1032.3176273409,1005.69208111502,979.75326123484,954.483455647814,50,400],\"fNormalized\":false,\"fNormIntegral\":0,\"fFormula\":{\"_typename\":\"TFormula\",\"fUniqueID\":0,\"fBits\":50332672,\"fName\":\"f1\",\"fTitle\":\"[0]*TMath::Exp(-[1]*x)\",\"fClingParameters\":[18911.1713766099,0.00746584448636413],\"fAllParametersSetted\":true,\"fParams\":[{\"$pair\":\"pair<TString,int,TFormulaParamOrder>\",\"first\":\"p0\",\"second\":0},{\"$pair\":\"pair<TString,int,TFormulaParamOrder>\",\"first\":\"p1\",\"second\":1}],\"fFormula\":\"[p0]*TMath::Exp(-[p1]*x)\",\"fNdim\":1,\"fLinearParts\":[],\"fVectorized\":false},\"fParams\":null,\"fComposition_ptr\":null},{\"_typename\":\"TPaveStats\",\"fUniqueID\":0,\"fBits\":50331657,\"fLineColor\":1,\"fLineStyle\":1,\"fLineWidth\":1,\"fFillColor\":0,\"fFillStyle\":1001,\"fX1\":850.000025331974,\"fY1\":3.64516071399465,\"fX2\":1100.00003278256,\"fY2\":4.58055404648755,\"fX1NDC\":0.780000016093254,\"fY1NDC\":0.775000005960464,\"fX2NDC\":0.980000019073486,\"fY2NDC\":0.935000002384186,\"fBorderSize\":1,\"fInit\":1,\"fShadowColor\":1,\"fCornerRadius\":0,\"fOption\":\"brNDC\",\"fName\":\"stats\",\"fTextAngle\":0,\"fTextSize\":0,\"fTextAlign\":12,\"fTextColor\":1,\"fTextFont\":42,\"fLabel\":\"\",\"fLongest\":18,\"fMargin\":0.05,\"fLines\":{\"_typename\":\"TList\",\"name\":\"TList\",\"arr\":[{\"_typename\":\"TLatex\",\"fUniqueID\":0,\"fBits\":50331648,\"fName\":\"\",\"fTitle\":\"td\",\"fTextAngle\":0,\"fTextSize\":0.0368,\"fTextAlign\":0,\"fTextColor\":0,\"fTextFont\":0,\"fX\":0,\"fY\":0,\"fLineColor\":1,\"fLineStyle\":1,\"fLineWidth\":2,\"fLimitFactorSize\":3,\"fOriginSize\":0.0368000008165836},{\"_typename\":\"TLatex\",\"fUniqueID\":0,\"fBits\":50331648,\"fName\":\"\",\"fTitle\":\"Entries = 194773 \",\"fTextAngle\":0,\"fTextSize\":0,\"fTextAlign\":0,\"fTextColor\":0,\"fTextFont\":0,\"fX\":0,\"fY\":0,\"fLineColor\":1,\"fLineStyle\":1,\"fLineWidth\":2,\"fLimitFactorSize\":3,\"fOriginSize\":0.04},{\"_typename\":\"TLatex\",\"fUniqueID\":0,\"fBits\":50331648,\"fName\":\"\",\"fTitle\":\"Mean  =    163\",\"fTextAngle\":0,\"fTextSize\":0,\"fTextAlign\":0,\"fTextColor\":0,\"fTextFont\":0,\"fX\":0,\"fY\":0,\"fLineColor\":1,\"fLineStyle\":1,\"fLineWidth\":2,\"fLimitFactorSize\":3,\"fOriginSize\":0.04},{\"_typename\":\"TLatex\",\"fUniqueID\":0,\"fBits\":50331648,\"fName\":\"\",\"fTitle\":\"Std Dev   =  122.4\",\"fTextAngle\":0,\"fTextSize\":0,\"fTextAlign\":0,\"fTextColor\":0,\"fTextFont\":0,\"fX\":0,\"fY\":0,\"fLineColor\":1,\"fLineStyle\":1,\"fLineWidth\":2,\"fLimitFactorSize\":3,\"fOriginSize\":0.04}],\"opt\":[\"\",\"\",\"\",\"\"]},\"fOptFit\":0,\"fOptStat\":1111,\"fFitFormat\":\"5.4g\",\"fStatFormat\":\"6.4g\",\"fParent\":{\"$ref\":3}}],\"opt\":[\"\",\"brNDC\"]},\"fBufferSize\":0,\"fBuffer\":[],\"fBinStatErrOpt\":0,\"fStatOverflows\":2,\"fArray\":[0,0,0,0,10276,11668,11698,11664,10791,10398,9297,8669,8346,7714,7081,6490,6094,5746,4780,4505,4355,4169,3896,3390,3421,3178,2807,2595,2212,2273,1996,1903,1804,1731,1723,1484,1320,1164,1101,1032,973,963,604,894,690,729,588,524,446,534,362,493,382,404,391,339,278,267,219,224,225,163,46,48,86,138,146,50,-8,81,118,21,120,110,1,54,80,10,148,37,15,-18,56,22,-115,71,30,21,30,-73,-5,-5,-32,-12,7,-18,-53,-18,47,41,33,633]}],\"opt\":[\"\",\"\"]},\"fExecs\":null,\"fName\":\"c1\",\"fTitle\":\"c1\",\"fNumPaletteColor\":0,\"fNextPaletteColor\":0,\"fDISPLAY\":\"$DISPLAY\",\"fDoubleBuffer\":0,\"fRetained\":true,\"fXsizeUser\":0,\"fYsizeUser\":0,\"fXsizeReal\":20,\"fYsizeReal\":14.28571,\"fWindowTopX\":0,\"fWindowTopY\":0,\"fWindowWidth\":0,\"fWindowHeight\":0,\"fCw\":696,\"fCh\":472,\"fCatt\":{\"_typename\":\"TAttCanvas\",\"fXBetween\":2,\"fYBetween\":2,\"fTitleFromTop\":1.2,\"fXdate\":0.2,\"fYdate\":0.3,\"fAdate\":1},\"kMoveOpaque\":true,\"kResizeOpaque\":true,\"fHighLightColor\":2,\"fBatch\":true,\"kShowEventStatus\":false,\"kAutoExec\":true,\"kMenuBar\":true});\n",
       "       Core.draw(\"root_plot_6\", obj, \"\");\n",
       "     }\n",
       " );\n",
       "</script>\n"
      ],
      "text/plain": [
       "<IPython.core.display.HTML object>"
      ]
     },
     "metadata": {},
     "output_type": "display_data"
    },
    {
     "name": "stdout",
     "output_type": "stream",
     "text": [
      " FCN=232.525 FROM MIGRAD    STATUS=CONVERGED     115 CALLS         116 TOTAL\n",
      "                     EDM=9.95291e-09    STRATEGY= 1      ERROR MATRIX ACCURATE \n",
      "  EXT PARAMETER                                   STEP         FIRST   \n",
      "  NO.   NAME      VALUE            ERROR          SIZE      DERIVATIVE \n",
      "   1  p0           1.89112e+04   9.64537e+01   3.51038e-01  -6.46490e-07\n",
      "   2  p1           7.46584e-03   2.84838e-05   1.03667e-07  -2.92571e+00\n",
      "halflife: 92.8424 +- 0.354214 ns"
     ]
    }
   ],
   "source": [
    "TH1D *td = new TH1D(\"td\",\"\",100,0,1000);\n",
    "td->Add(td,td363);\n",
    "td->Add(td,td787);\n",
    "td->Add(td,td818);\n",
    "td->Add(td,td1048);\n",
    "\n",
    "td->Fit(\"f1\",\"R\");\n",
    "td->Draw();\n",
    "c2->SetLogy();\n",
    "c2->Draw();\n",
    "\n",
    "cout<<\"halflife: \"<<log(2)/f1->GetParameter(1)<<\" +- \"<<log(2)/f1->GetParameter(1)/f1->GetParameter(1)*f1->GetParError(1)<<\" ns\";"
   ]
  }
 ],
 "metadata": {
  "kernelspec": {
   "display_name": "ROOT C++",
   "language": "c++",
   "name": "root"
  },
  "language_info": {
   "codemirror_mode": "text/x-c++src",
   "file_extension": ".C",
   "mimetype": " text/x-c++src",
   "name": "c++"
  }
 },
 "nbformat": 4,
 "nbformat_minor": 2
}
