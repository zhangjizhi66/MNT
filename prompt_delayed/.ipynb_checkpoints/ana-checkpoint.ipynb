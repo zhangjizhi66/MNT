{
 "cells": [
  {
   "cell_type": "code",
   "execution_count": null,
   "metadata": {},
   "outputs": [],
   "source": [
    "TFile *ipfMe = new TFile(\"Gpd_100_109.root\");\n",
    "TTree *treeMe = (TTree*)ipfMe->Get(\"tree\");\n",
    "TFile *ipfLi = new TFile(\"pd100_109.root\");\n",
    "TTree *treeLi = (TTree*)ipfLi->Get(\"tree\");\n",
    "TCanvas* c1 = new TCanvas;"
   ]
  },
  {
   "cell_type": "code",
   "execution_count": null,
   "metadata": {},
   "outputs": [],
   "source": [
    "treeLi->Print();"
   ]
  },
  {
   "cell_type": "code",
   "execution_count": null,
   "metadata": {},
   "outputs": [],
   "source": [
    "treeMe->Draw(\"ed>>pjeMe(1500,0,1500)\",\"nd==2\");\n",
    "TH1D *pjeMe = (TH1D*)gROOT->FindObject(\"pjeMe\");\n",
    "pjeMe->SetLineColor(kBlue);\n",
    "\n",
    "treeLi->Draw(\"dx>>pjeLi(1500,0,1500)\");\n",
    "TH1D *pjeLi = (TH1D*)gROOT->FindObject(\"pjeLi\");\n",
    "pjeLi->SetLineColor(kRed);\n",
    "\n",
    "pjeMe->Draw();\n",
    "pjeLi->Draw(\"same\");\n",
    "c1->Draw();"
   ]
  }
 ],
 "metadata": {
  "kernelspec": {
   "display_name": "ROOT C++",
   "language": "c++",
   "name": "root"
  },
  "language_info": {
   "codemirror_mode": "text/x-c++src",
   "file_extension": ".C",
   "mimetype": " text/x-c++src",
   "name": "c++"
  }
 },
 "nbformat": 4,
 "nbformat_minor": 2
}
