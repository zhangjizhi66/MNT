{
 "cells": [
  {
   "cell_type": "code",
   "execution_count": 1,
   "metadata": {},
   "outputs": [
    {
     "name": "stdout",
     "output_type": "stream",
     "text": [
      "\u001b[?1034h"
     ]
    }
   ],
   "source": [
    "TFile *ipfMe = new TFile(\"Gpd_100_109.root\");\n",
    "TTree *treeMe = (TTree*)ipfMe->Get(\"tree\");\n",
    "TFile *ipfLi = new TFile(\"pd100_109.root\");\n",
    "TTree *treeLi = (TTree*)ipfLi->Get(\"tree\");\n",
    "TCanvas* c1 = new TCanvas;"
   ]
  },
  {
   "cell_type": "code",
   "execution_count": 2,
   "metadata": {},
   "outputs": [
    {
     "name": "stdout",
     "output_type": "stream",
     "text": [
      "******************************************************************************\n",
      "*Tree    :tree      : tree                                                   *\n",
      "*Entries :  1823394 : Total =        29260058 bytes  File  Size =   14706202 *\n",
      "*        :          : Tree compression factor =   1.99                       *\n",
      "******************************************************************************\n",
      "*Br    0 :px        : px/S                                                   *\n",
      "*Entries :  1823394 : Total  Size=    3657312 bytes  File Size  =    2955794 *\n",
      "*Baskets :      115 : Basket Size=      32000 bytes  Compression=   1.24     *\n",
      "*............................................................................*\n",
      "*Br    1 :dy        : dy/S                                                   *\n",
      "*Entries :  1823394 : Total  Size=    3657312 bytes  File Size  =    2887049 *\n",
      "*Baskets :      115 : Basket Size=      32000 bytes  Compression=   1.27     *\n",
      "*............................................................................*\n",
      "*Br    2 :npx       : npx/S                                                  *\n",
      "*Entries :  1823394 : Total  Size=    3657431 bytes  File Size  =      27722 *\n",
      "*Baskets :      115 : Basket Size=      32000 bytes  Compression= 131.84     *\n",
      "*............................................................................*\n",
      "*Br    3 :ndy       : ndy/S                                                  *\n",
      "*Entries :  1823394 : Total  Size=    3657431 bytes  File Size  =      27722 *\n",
      "*Baskets :      115 : Basket Size=      32000 bytes  Compression= 131.84     *\n",
      "*............................................................................*\n",
      "*Br    4 :dgt       : dgt/S                                                  *\n",
      "*Entries :  1823394 : Total  Size=    3657431 bytes  File Size  =    2696410 *\n",
      "*Baskets :      115 : Basket Size=      32000 bytes  Compression=   1.36     *\n",
      "*............................................................................*\n",
      "*Br    5 :pgt       : pgt/S                                                  *\n",
      "*Entries :  1823394 : Total  Size=    3657431 bytes  File Size  =    1770597 *\n",
      "*Baskets :      115 : Basket Size=      32000 bytes  Compression=   2.06     *\n",
      "*............................................................................*\n",
      "*Br    6 :qval      : qval/S                                                 *\n",
      "*Entries :  1823394 : Total  Size=    3657550 bytes  File Size  =    2606651 *\n",
      "*Baskets :      115 : Basket Size=      32000 bytes  Compression=   1.40     *\n",
      "*............................................................................*\n",
      "*Br    7 :thetat    : thetat/S                                               *\n",
      "*Entries :  1823394 : Total  Size=    3657788 bytes  File Size  =    1726638 *\n",
      "*Baskets :      115 : Basket Size=      32000 bytes  Compression=   2.12     *\n",
      "*............................................................................*\n"
     ]
    }
   ],
   "source": [
    "treeLi->Print();"
   ]
  },
  {
   "cell_type": "code",
   "execution_count": 3,
   "metadata": {},
   "outputs": [],
   "source": [
    "treeMe->Draw(\"ed>>pjeMe(1500,0,1500)\",\"nd==1 && np==1\");\n",
    "TH1D *pjeMe = (TH1D*)gROOT->FindObject(\"pjeMe\");\n",
    "pjeMe->SetLineColor(kBlue);\n",
    "\n",
    "treeLi->Draw(\"dy>>pjeLi(1500,0,1500)\");\n",
    "TH1D *pjeLi = (TH1D*)gROOT->FindObject(\"pjeLi\");\n",
    "pjeLi->SetLineColor(kRed);"
   ]
  },
  {
   "cell_type": "code",
   "execution_count": 4,
   "metadata": {},
   "outputs": [
    {
     "data": {
      "image/png": "[encoded data removed]",
      "text/plain": [
       "<IPython.core.display.Image object>"
      ]
     },
     "metadata": {},
     "output_type": "display_data"
    }
   ],
   "source": [
    "pjeMe->Draw();\n",
    "pjeLi->Draw(\"same\");\n",
    "c1->Draw();"
   ]
  },
  {
   "cell_type": "code",
   "execution_count": null,
   "metadata": {},
   "outputs": [],
   "source": []
  }
 ],
 "metadata": {
  "kernelspec": {
   "display_name": "ROOT C++",
   "language": "c++",
   "name": "root"
  },
  "language_info": {
   "codemirror_mode": "text/x-c++src",
   "file_extension": ".C",
   "mimetype": " text/x-c++src",
   "name": "c++"
  }
 },
 "nbformat": 4,
 "nbformat_minor": 2
}
