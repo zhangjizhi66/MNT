{
 "cells": [
  {
   "cell_type": "code",
   "execution_count": 1,
   "metadata": {},
   "outputs": [
    {
     "name": "stdout",
     "output_type": "stream",
     "text": [
      "\u001b[?1034h"
     ]
    }
   ],
   "source": [
    "ifstream ifs(\"../validID.txt\");  // read valid run id\n",
    "int runid;\n",
    "TChain *treeMe = new TChain(\"tree\");\n",
    "TChain *treeLi = new TChain(\"tree\");\n",
    "while (ifs>>runid)\n",
    "    if (runid>=100 && runid<=109){\n",
    "        treeMe->Add(Form(\"../COIN_ROOT/coin%04d.root\",runid));\n",
    "        treeLi->Add(Form(\"/data/d3/DataZhu/ANA_ROOT/g%04d.root\",runid));\n",
    "}\n",
    "TCanvas* c1 = new TCanvas;"
   ]
  },
  {
   "cell_type": "code",
   "execution_count": 2,
   "metadata": {},
   "outputs": [],
   "source": [
    "TH1F *Me,*Li;"
   ]
  },
  {
   "cell_type": "code",
   "execution_count": 3,
   "metadata": {},
   "outputs": [],
   "source": [
    "treeMe->Draw(\"GeP>>Me(1500,0,1500)\",\"abs(Gdt)<20 && Gfom<0.8\");\n",
    "Me = (TH1F*)gROOT->FindObject(\"Me\");\n",
    "Me->SetLineColor(kBlue);\n",
    "treeLi->Draw(\"GeP>>Li(1500,0,1500)\",\"abs(Gdt)<20 && Gfom<0.8\");\n",
    "Li = (TH1F*)gROOT->FindObject(\"Li\");\n",
    "Li->SetLineColor(kRed);"
   ]
  },
  {
   "cell_type": "code",
   "execution_count": 4,
   "metadata": {},
   "outputs": [
    {
     "data": {
      "image/png": "[encoded data removed]",
      "text/plain": [
       "<IPython.core.display.Image object>"
      ]
     },
     "metadata": {},
     "output_type": "display_data"
    }
   ],
   "source": [
    "Me->Draw();\n",
    "Li->Draw(\"same\");\n",
    "c1->SetLogy(0);\n",
    "c1->Draw();"
   ]
  },
  {
   "cell_type": "code",
   "execution_count": 5,
   "metadata": {},
   "outputs": [],
   "source": [
    "%jsroot on"
   ]
  },
  {
   "cell_type": "code",
   "execution_count": 6,
   "metadata": {},
   "outputs": [],
   "source": [
    "Me = new TH1F(\"newMe\",\"\",1500,0,1500);\n",
    "Li = new TH1F(\"newLi\",\"\",1500,0,1500);"
   ]
  },
  {
   "cell_type": "code",
   "execution_count": 7,
   "metadata": {},
   "outputs": [],
   "source": [
    "{\n",
    "    TTree* tree = treeMe;\n",
    "    \n",
    "    // Branches for input ROOT file\n",
    "    int nG,Gdt[10000];\n",
    "    float Ge[10000],GeP[10000],GeT[10000],Gfom[10000];\n",
    "\n",
    "    // buffer branches \n",
    "    Short_t ed_buf[10000],epP_buf[10000],epT_buf[10000];\n",
    "    Short_t td_buf[10000],tp_buf[10000];\n",
    "\n",
    "    tree->SetBranchAddress(\"nG\",&nG);\n",
    "    tree->SetBranchAddress(\"Ge\",&Ge);\n",
    "    tree->SetBranchAddress(\"GeT\",&GeT);\n",
    "    tree->SetBranchAddress(\"GeP\",&GeP);\n",
    "    tree->SetBranchAddress(\"Gdt\",&Gdt);\n",
    "    tree->SetBranchAddress(\"Gfom\",&Gfom);\n",
    "    \n",
    "    long long int nentries = tree->GetEntries();\n",
    "    for (long long int jentry=0; jentry<nentries; jentry++){\n",
    "        tree->GetEntry(jentry);\n",
    "        \n",
    "        int np=0;\n",
    "        for (int phit=0; phit<nG; phit++){         //if (jentry<10) cout<<'\\n'<<GeP[phit]<<'\\t'<<Gdt[phit]<<'\\t'<<Gfom[phit]<<'\\t';\n",
    "            if (Gfom[phit]>0.8) continue;\n",
    "            if (GeP[phit]>2000) continue;\n",
    "            if (abs(Gdt[phit])>=20) continue;  // prompt\n",
    "                                                  //if (jentry<10) cout<<\"chosen\";\n",
    "            epP_buf[np] = GeP[phit];\n",
    "            //epT_buf[np] = GeT[phit];\n",
    "            //tp_buf[np] = Gdt[phit];\n",
    "            np++;\n",
    "        }\n",
    "        int nd=0;\n",
    "        for (int dhit=0; dhit<nG; dhit++){\n",
    "            if (Gfom[dhit]>0.8) continue;\n",
    "            if (Ge[dhit]>2000) continue;\n",
    "            if (Gdt[dhit]<=30) continue;  // delayed\n",
    "                \n",
    "            //ed_buf[nd] = Ge[dhit];\n",
    "            //td_buf[nd] = Gdt[dhit];\n",
    "            nd++;\n",
    "        }\n",
    "//if (jentry<1000 && epP_buf[0]==338) cout<<np<<'\\t'<<nd<<'\\n';\n",
    "        if (nd>1 || np>1) continue;  // ignore 3 or more multiplicity coincidence\n",
    "        \n",
    "        for (int p=0; p<np; p++)\n",
    "            for (int d=0; d<nd; d++){\n",
    "                if(epT_buf[p]>=401 && epT_buf[p]<=411) continue;\n",
    "                if(epT_buf[p]>=572 && epT_buf[p]<=582) continue;\n",
    "                // if(epT_buf[p]>=353 && epT_buf[p]<=358) continue;\n",
    "                // if(epT_buf[p]>=364 && epT_buf[p]<=370) continue;\n",
    "                //if (jentry<1000) cout<<epP_buf[p]<<'\\n';\n",
    "                Me->Fill(epP_buf[p]);\n",
    "            }\n",
    "    }\n",
    "}"
   ]
  },
  {
   "cell_type": "code",
   "execution_count": 8,
   "metadata": {
    "scrolled": true
   },
   "outputs": [],
   "source": [
    "{\n",
    "    TTree *tree = treeLi;\n",
    "    \n",
    "    // Branches for input ROOT file\n",
    "    int nGam;\n",
    "    float Ge[10000],GeP[10000],GeT[10000],Gfom[10000],Gdt[10000];\n",
    "\n",
    "    tree->SetBranchAddress(\"nGam\",&nGam);\n",
    "    tree->SetBranchAddress(\"Ge\",&Ge);\n",
    "    tree->SetBranchAddress(\"GeT\",&GeT);\n",
    "    tree->SetBranchAddress(\"GeP\",&GeP);\n",
    "    tree->SetBranchAddress(\"Gdt\",&Gdt);\n",
    "    tree->SetBranchAddress(\"Gfom\",&Gfom);\n",
    "\n",
    "    Long64_t nentries = tree->GetEntries();\n",
    "    for (Long64_t jentry=0; jentry<nentries;jentry++) {\n",
    "      tree->GetEntry(jentry);\n",
    "      float GGeP[1000],GGeT[1000],GGe[1000],GGt[1000];\n",
    "      float GGed[1000],GGtd[1000];\n",
    "      int nGG=0,nGGd=0;\n",
    "      for(int i=0;i<nGam;i++) {                     //if (jentry<10) cout<<GeP[i]<<'\\t'<<Gdt[i]<<'\\t'<<Gfom[i]<<'\\t';\n",
    "        if(Gdt[i]>-20 && Gdt[i]<20 && Gfom[i]<0.8 && GeP[i]<2000) {//prompt\n",
    "              GGeP[nGG]=GeP[i];                       //if (jentry<10) cout<<\"chosen\"<<'\\n';\n",
    "              //GGeT[nGG]=GeT[i];\n",
    "              //GGt[nGG]=Gdt[i];\n",
    "              //GGe[nGG]=Ge[i];\n",
    "              nGG++;\n",
    "        }                                            //else if (jentry<10) cout<<'\\n';\n",
    "        if(Gdt[i]>30 && Gfom[i]<0.8 && Ge[i]<2000) {//delayed\n",
    "              //GGed[nGGd]=Ge[i];\n",
    "              //GGtd[nGGd]=Gdt[i];\n",
    "              nGGd++;\n",
    "        }\n",
    "          \n",
    "      }  \n",
    "\n",
    "      if(nGG==1 && nGGd==1) {//nGG>0 && nGG<3;M2\n",
    "            for(int i=0;i<nGG;i++)\n",
    "              for(int j=0;j<nGGd;j++){\n",
    "                if(GGeT[i]>=401 && GGeT[i]<=411) continue;\n",
    "                if(GGeT[i]>=572 && GGeT[i]<=582) continue;\n",
    "                // if(GGeT[i]>=353 && GGeT[i]<=358) continue;\n",
    "                // if(GGeT[i]>=364 && GGeT[i]<=370) continue;\n",
    "\n",
    "                  Li->Fill(GGeP[i]);\n",
    "              }\n",
    "      }\n",
    "    }\n",
    "}"
   ]
  },
  {
   "cell_type": "code",
   "execution_count": 9,
   "metadata": {},
   "outputs": [
    {
     "data": {
      "text/html": [
       "\n",
       "<div id=\"root_plot_1\"\n",
       "     style=\"width: 696px; height: 472px\">\n",
       "</div>\n",
       "\n",
       "<script>\n",
       " requirejs.config({\n",
       "     paths: {\n",
       "       'JSRootCore' : 'https://root.cern.ch/js/notebook//scripts/JSRootCore',\n",
       "     }\n",
       "   });\n",
       " require(['JSRootCore'],\n",
       "     function(Core) {\n",
       "       var obj = Core.JSONR_unref({\"_typename\":\"TCanvas\",\"fUniqueID\":0,\"fBits\":53673992,\"fLineColor\":1,\"fLineStyle\":1,\"fLineWidth\":1,\"fFillColor\":0,\"fFillStyle\":1001,\"fLeftMargin\":0.1,\"fRightMargin\":0.1,\"fBottomMargin\":0.1,\"fTopMargin\":0.1,\"fXfile\":2,\"fYfile\":2,\"fAfile\":1,\"fXstat\":0.99,\"fYstat\":0.99,\"fAstat\":2,\"fFrameFillColor\":0,\"fFrameLineColor\":1,\"fFrameFillStyle\":1001,\"fFrameLineStyle\":1,\"fFrameLineWidth\":1,\"fFrameBorderSize\":1,\"fFrameBorderMode\":0,\"fX1\":-187.500013969839,\"fY1\":-405.562530216763,\"fX2\":1687.50001396984,\"fY2\":3650.06253021676,\"fXtoAbsPixelk\":69.6000541484835,\"fXtoPixelk\":69.6000541484835,\"fXtoPixel\":0.371199994468689,\"fYtoAbsPixelk\":424.800047186661,\"fYtoPixelk\":424.800047186661,\"fYtoPixel\":-0.116381567074533,\"fUtoAbsPixelk\":5e-5,\"fUtoPixelk\":5e-5,\"fUtoPixel\":696,\"fVtoAbsPixelk\":472.00005,\"fVtoPixelk\":472,\"fVtoPixel\":-472,\"fAbsPixeltoXk\":-187.500013969839,\"fPixeltoXk\":-187.500013969839,\"fPixeltoX\":2.6939655573846,\"fAbsPixeltoYk\":3650.06253021676,\"fPixeltoYk\":-405.562530216763,\"fPixeltoY\":-8.59242597549476,\"fXlowNDC\":0,\"fYlowNDC\":0,\"fXUpNDC\":0,\"fYUpNDC\":0,\"fWNDC\":1,\"fHNDC\":1,\"fAbsXlowNDC\":0,\"fAbsYlowNDC\":0,\"fAbsWNDC\":1,\"fAbsHNDC\":1,\"fUxmin\":0,\"fUymin\":0,\"fUxmax\":1500,\"fUymax\":3244.5,\"fTheta\":30,\"fPhi\":30,\"fAspectRatio\":0,\"fNumber\":0,\"fTickx\":0,\"fTicky\":0,\"fLogx\":0,\"fLogy\":0,\"fLogz\":0,\"fPadPaint\":0,\"fCrosshair\":0,\"fCrosshairPos\":0,\"fBorderSize\":2,\"fBorderMode\":0,\"fModified\":false,\"fGridx\":false,\"fGridy\":false,\"fAbsCoord\":false,\"fEditable\":true,\"fFixedAspectRatio\":false,\"fPrimitives\":{\"_typename\":\"TList\",\"name\":\"TList\",\"arr\":[{\"_typename\":\"TFrame\",\"fUniqueID\":0,\"fBits\":50331656,\"fLineColor\":1,\"fLineStyle\":1,\"fLineWidth\":1,\"fFillColor\":0,\"fFillStyle\":1001,\"fX1\":0,\"fY1\":0,\"fX2\":1500,\"fY2\":3244.5,\"fBorderSize\":1,\"fBorderMode\":0},{\"_typename\":\"TH1F\",\"fUniqueID\":0,\"fBits\":50331656,\"fName\":\"newMe\",\"fTitle\":\"\",\"fLineColor\":602,\"fLineStyle\":1,\"fLineWidth\":1,\"fFillColor\":0,\"fFillStyle\":1001,\"fMarkerColor\":1,\"fMarkerStyle\":1,\"fMarkerSize\":1,\"fNcells\":1502,\"fXaxis\":{\"_typename\":\"TAxis\",\"fUniqueID\":0,\"fBits\":50331648,\"fName\":\"xaxis\",\"fTitle\":\"\",\"fNdivisions\":510,\"fAxisColor\":1,\"fLabelColor\":1,\"fLabelFont\":42,\"fLabelOffset\":0.005,\"fLabelSize\":0.035,\"fTickLength\":0.03,\"fTitleOffset\":1,\"fTitleSize\":0.035,\"fTitleColor\":1,\"fTitleFont\":42,\"fNbins\":1500,\"fXmin\":0,\"fXmax\":1500,\"fXbins\":[],\"fFirst\":0,\"fLast\":0,\"fBits2\":0,\"fTimeDisplay\":false,\"fTimeFormat\":\"\",\"fLabels\":null,\"fModLabs\":null},\"fYaxis\":{\"_typename\":\"TAxis\",\"fUniqueID\":0,\"fBits\":50331648,\"fName\":\"yaxis\",\"fTitle\":\"\",\"fNdivisions\":510,\"fAxisColor\":1,\"fLabelColor\":1,\"fLabelFont\":42,\"fLabelOffset\":0.005,\"fLabelSize\":0.035,\"fTickLength\":0.03,\"fTitleOffset\":0,\"fTitleSize\":0.035,\"fTitleColor\":1,\"fTitleFont\":42,\"fNbins\":1,\"fXmin\":0,\"fXmax\":1,\"fXbins\":[],\"fFirst\":0,\"fLast\":0,\"fBits2\":0,\"fTimeDisplay\":false,\"fTimeFormat\":\"\",\"fLabels\":null,\"fModLabs\":null},\"fZaxis\":{\"_typename\":\"TAxis\",\"fUniqueID\":0,\"fBits\":50331648,\"fName\":\"zaxis\",\"fTitle\":\"\",\"fNdivisions\":510,\"fAxisColor\":1,\"fLabelColor\":1,\"fLabelFont\":42,\"fLabelOffset\":0.005,\"fLabelSize\":0.035,\"fTickLength\":0.03,\"fTitleOffset\":1,\"fTitleSize\":0.035,\"fTitleColor\":1,\"fTitleFont\":42,\"fNbins\":1,\"fXmin\":0,\"fXmax\":1,\"fXbins\":[],\"fFirst\":0,\"fLast\":0,\"fBits2\":0,\"fTimeDisplay\":false,\"fTimeFormat\":\"\",\"fLabels\":null,\"fModLabs\":null},\"fBarOffset\":0,\"fBarWidth\":1000,\"fEntries\":1950619,\"fTsumw\":1818485,\"fTsumw2\":1818485,\"fTsumwx\":1077731288,\"fTsumwx2\":881258546800,\"fMaximum\":-1111,\"fMinimum\":-1111,\"fNormFactor\":0,\"fContour\":[],\"fSumw2\":[],\"fOption\":\"\",\"fFunctions\":{\"_typename\":\"TList\",\"name\":\"TList\",\"arr\":[{\"_typename\":\"TPaveStats\",\"fUniqueID\":0,\"fBits\":50331657,\"fLineColor\":1,\"fLineStyle\":1,\"fLineWidth\":1,\"fFillColor\":0,\"fFillStyle\":1001,\"fX1\":1275.00003799796,\"fY1\":2737.54691579263,\"fX2\":1650.00004917383,\"fY2\":3386.44691095795,\"fX1NDC\":0.780000016093254,\"fY1NDC\":0.775000005960464,\"fX2NDC\":0.980000019073486,\"fY2NDC\":0.935000002384186,\"fBorderSize\":1,\"fInit\":1,\"fShadowColor\":1,\"fCornerRadius\":0,\"fOption\":\"brNDC\",\"fName\":\"stats\",\"fTextAngle\":0,\"fTextSize\":0,\"fTextAlign\":12,\"fTextColor\":1,\"fTextFont\":42,\"fLabel\":\"\",\"fLongest\":18,\"fMargin\":0.05,\"fLines\":{\"_typename\":\"TList\",\"name\":\"TList\",\"arr\":[{\"_typename\":\"TLatex\",\"fUniqueID\":0,\"fBits\":50331648,\"fName\":\"\",\"fTitle\":\"newMe\",\"fTextAngle\":0,\"fTextSize\":0.0368,\"fTextAlign\":0,\"fTextColor\":0,\"fTextFont\":0,\"fX\":0,\"fY\":0,\"fLineColor\":1,\"fLineStyle\":1,\"fLineWidth\":2,\"fLimitFactorSize\":3,\"fOriginSize\":0.0368000008165836},{\"_typename\":\"TLatex\",\"fUniqueID\":0,\"fBits\":50331648,\"fName\":\"\",\"fTitle\":\"Entries = 1950619\",\"fTextAngle\":0,\"fTextSize\":0,\"fTextAlign\":0,\"fTextColor\":0,\"fTextFont\":0,\"fX\":0,\"fY\":0,\"fLineColor\":1,\"fLineStyle\":1,\"fLineWidth\":2,\"fLimitFactorSize\":3,\"fOriginSize\":0.04},{\"_typename\":\"TLatex\",\"fUniqueID\":0,\"fBits\":50331648,\"fName\":\"\",\"fTitle\":\"Mean  =  592.7\",\"fTextAngle\":0,\"fTextSize\":0,\"fTextAlign\":0,\"fTextColor\":0,\"fTextFont\":0,\"fX\":0,\"fY\":0,\"fLineColor\":1,\"fLineStyle\":1,\"fLineWidth\":2,\"fLimitFactorSize\":3,\"fOriginSize\":0.04},{\"_typename\":\"TLatex\",\"fUniqueID\":0,\"fBits\":50331648,\"fName\":\"\",\"fTitle\":\"Std Dev   =  365.2\",\"fTextAngle\":0,\"fTextSize\":0,\"fTextAlign\":0,\"fTextColor\":0,\"fTextFont\":0,\"fX\":0,\"fY\":0,\"fLineColor\":1,\"fLineStyle\":1,\"fLineWidth\":2,\"fLimitFactorSize\":3,\"fOriginSize\":0.04}],\"opt\":[\"\",\"\",\"\",\"\"]},\"fOptFit\":0,\"fOptStat\":1111,\"fFitFormat\":\"5.4g\",\"fStatFormat\":\"6.4g\",\"fParent\":{\"$ref\":3}}],\"opt\":[\"brNDC\"]},\"fBufferSize\":0,\"fBuffer\":[],\"fBinStatErrOpt\":0,\"fStatOverflows\":2,\"fArray\":[0,0,0,0,0,0,0,1,0,0,0,0,0,0,0,0,0,0,0,0,0,0,1,0,0,4,12,13,46,46,75,99,116,184,207,184,209,233,230,242,244,262,276,284,269,321,333,299,302,363,367,405,461,439,570,614,642,760,838,870,947,1077,1047,1024,1011,956,967,1009,1011,1005,1023,987,1005,967,864,798,718,697,673,674,663,678,668,712,669,696,710,686,651,686,668,660,701,707,713,710,793,756,780,798,785,788,835,828,880,892,892,909,957,978,964,994,1005,1005,1088,1066,1182,1090,1186,1110,1183,1181,1184,1270,1211,1251,1267,1307,1349,1274,1449,1390,1319,1412,1468,1463,1427,1497,1471,1535,1663,1524,1578,1628,1716,1650,1586,1725,1684,1718,1773,1737,1833,1796,1810,1941,1880,1917,1836,1956,1951,1971,1952,1939,2057,2040,2033,2041,2082,2105,2093,2036,2165,2163,2101,2107,2169,2154,2082,2154,2232,2135,2224,2257,2365,2210,2352,2338,2288,2296,2273,2360,2350,2327,2343,2361,2443,2299,2360,2339,2391,2425,2325,2422,2443,2505,2388,2473,2402,2345,2413,2481,2438,2499,2434,2354,2379,2414,2408,2451,2436,2427,2502,2550,2423,2410,2381,2393,2324,2448,2442,2322,2362,2397,2410,2327,2416,2432,2364,2364,2382,2347,2292,2406,2334,2336,2428,2331,2293,2222,2417,2313,2295,2322,2310,2218,2304,2227,2199,2245,2239,2185,2265,2275,2297,2245,2221,2168,2250,2267,2208,2192,2234,2243,2206,2234,2213,2165,2196,2178,2204,2164,2184,2229,2202,2213,2245,2266,2307,2351,2310,2294,2187,2239,2135,2139,2148,2114,2175,2177,2155,2196,2125,2159,2129,2110,2107,2149,2108,2154,2154,2196,2169,2188,2158,2102,2074,2166,2099,2136,2175,2156,2269,2136,2204,2140,2195,2209,2173,2207,2232,2121,2143,2159,2176,2148,2126,2201,2258,2288,2153,2256,2262,2198,2266,2282,2229,2205,2231,2269,2338,2241,2327,2294,2291,2277,2255,2452,2394,2424,2552,2563,2598,2582,2567,2658,2675,2767,2760,2917,2816,2966,2921,2864,2903,2694,2700,2775,2728,2663,2732,2719,2666,2687,2551,2666,2653,2597,2504,2579,2585,2615,2593,2549,2736,2808,2834,2749,2818,2818,2808,2947,2809,2964,2960,3064,2962,3090,2980,3088,2954,3022,2983,2975,3052,3022,2866,3006,2919,2872,2735,2835,2669,2776,2778,2770,2816,2647,2692,2755,2632,2582,2668,2522,2564,2545,2555,2573,2530,2615,2570,2469,2549,2539,2473,2544,2497,2637,2456,2597,2560,2602,2467,2513,2723,2583,2630,2630,2588,2567,2586,2551,2489,2272,2145,2012,1829,1655,1739,1585,1627,1582,1557,1579,1563,1554,1523,1570,1556,1558,1559,1614,1544,1603,1603,1620,1558,1632,1590,1542,1538,1539,1528,1517,1486,1480,1432,1511,1472,1520,1574,1591,1529,1482,1534,1549,1479,1544,1568,1541,1603,1572,1590,1623,1644,1593,1697,1530,1559,1608,1534,1601,1570,1629,1511,1556,1650,1626,1548,1580,1619,1562,1630,1632,1531,1612,1583,1626,1652,1568,1617,1605,1545,1532,1551,1624,1572,1495,1580,1546,1542,1579,1633,1616,1585,1551,1651,1507,1677,1650,1550,1562,1567,1540,1631,1639,1663,1540,1648,1632,1624,1640,1646,1656,1662,1653,1602,1649,1634,1688,1664,1626,1555,1638,1641,1636,1619,1700,1727,1623,1676,1621,1628,1617,1695,1693,1667,1627,1631,1661,1597,1684,1720,1683,1690,1664,1609,1625,1563,1600,1620,1568,1604,1575,1637,1609,1534,1587,1577,1559,1535,1551,1628,1592,1595,1525,1454,1535,1517,1547,1440,1504,1500,1445,1505,1536,1565,1519,1472,1558,1479,1482,1488,1535,1526,1433,1477,1476,1480,1474,1500,1506,1474,1422,1464,1435,1447,1523,1402,1379,1308,1269,1241,1297,1196,1260,1304,1297,1234,1289,1235,1224,1306,1228,1174,1227,1162,1198,1219,1178,1194,1203,1249,1248,1256,1231,1152,1227,1234,1164,1249,1186,1166,1154,1203,1200,1220,1111,1209,1213,1183,1205,1138,1135,1103,1159,1160,1072,1101,1108,1180,1154,1044,1182,1064,1044,1102,1072,1123,1124,1111,1095,1127,1100,1059,1117,1116,1103,1130,1130,1104,1064,1072,1149,1065,1082,1112,1137,1046,1048,1065,1070,1100,1076,1091,1056,1121,1057,1064,1060,1032,1078,1089,1063,1023,1068,1057,1084,1031,1061,1070,1029,1030,1046,1047,1102,1028,1093,1023,1056,1069,1100,1090,1092,1059,1096,1056,1104,1050,1077,1022,1082,1005,1009,984,1077,1035,1009,1055,994,1026,1016,1025,993,1052,1045,1001,1020,1009,998,1023,1030,1016,1008,925,993,1018,1030,1065,1065,1040,1133,1039,1126,1161,1079,1096,1064,1118,1084,1026,1020,1014,1003,977,983,974,970,1001,979,1026,962,933,1003,970,1026,972,961,952,950,1010,986,1000,979,1080,1050,1071,1046,1059,1068,1024,1050,1068,1027,1018,963,967,1000,988,934,996,997,902,962,973,971,931,917,968,962,928,950,981,932,905,972,910,940,978,897,951,950,981,960,931,929,931,974,926,998,931,924,903,890,918,874,937,834,893,868,879,873,815,886,857,847,870,812,889,837,864,912,844,903,910,838,910,875,907,905,836,831,843,851,833,907,831,859,876,794,876,832,844,872,828,843,812,848,874,790,812,810,808,820,795,820,812,823,781,819,834,807,839,842,798,804,813,793,820,799,837,822,828,811,869,822,834,824,812,821,842,844,862,879,827,882,870,888,820,849,831,825,811,766,805,815,830,814,761,757,772,832,815,794,780,771,763,767,742,789,750,773,736,689,786,716,712,727,779,715,767,760,774,741,754,715,738,749,740,806,782,722,756,775,751,771,748,777,745,729,728,738,740,723,754,744,748,754,774,770,775,803,708,747,709,712,775,751,793,740,742,703,733,736,658,774,750,776,782,756,742,776,777,730,761,770,759,734,725,721,722,731,718,718,728,726,758,731,703,742,712,714,720,719,703,769,730,738,716,724,739,708,715,766,754,721,748,767,691,763,706,731,703,720,749,708,703,659,691,750,708,672,685,682,680,657,650,677,620,689,642,660,671,671,645,704,704,693,723,741,694,678,764,788,748,741,747,742,691,685,665,658,691,690,684,672,682,628,648,677,679,659,637,663,641,621,580,644,636,628,605,593,637,612,587,619,613,677,648,630,618,631,632,619,594,659,582,603,697,636,635,593,638,596,624,606,629,598,656,654,606,629,620,603,552,655,588,570,622,616,635,598,606,628,601,623,552,608,612,578,586,583,593,637,594,620,622,608,624,635,638,661,691,634,622,663,653,673,600,610,603,583,614,590,563,577,584,559,607,545,553,563,577,593,574,529,556,542,543,552,602,587,555,538,559,529,547,613,605,559,562,620,586,619,569,617,599,507,571,580,583,569,598,566,573,581,575,601,562,539,586,633,583,574,520,593,591,589,600,620,606,615,631,609,653,631,673,735,746,825,842,922,960,1063,1046,1171,1172,1283,1406,1395,1589,1661,1713,1818,1846,1998,1905,1952,1923,1923,1766,1659,1482,1376,1216,1101,1047,899,868,801,764,709,609,595,577,557,566,559,526,533,489,529,506,483,475,521,541,509,476,495,494,484,473,465,487,430,453,483,439,481,454,382,442,414,417,437,438,454,422,425,457,387,394,404,471,460,423,418,428,421,396,442,379,378,401,437,413,397,367,403,436,435,443,399,418,381,459,400,409,375,426,408,423,403,403,383,375,416,387,381,403,424,384,392,413,391,387,407,391,384,399,402,395,367,385,402,378,378,356,386,397,389,391,411,392,388,386,393,378,427,369,407,360,349,357,400,356,402,358,400,375,396,383,403,413,390,383,381,396,374,378,366,384,353,415,376,393,355,346,399,399,362,331,359,379,368,352,387,345,364,372,315,343,329,384,340,335,337,355,332,344,356,346,363,340,332,357,351,372,341,350,132134]},{\"_typename\":\"TH1F\",\"fUniqueID\":0,\"fBits\":50331656,\"fName\":\"newLi\",\"fTitle\":\"\",\"fLineColor\":632,\"fLineStyle\":1,\"fLineWidth\":1,\"fFillColor\":0,\"fFillStyle\":1001,\"fMarkerColor\":1,\"fMarkerStyle\":1,\"fMarkerSize\":1,\"fNcells\":1502,\"fXaxis\":{\"_typename\":\"TAxis\",\"fUniqueID\":0,\"fBits\":50331648,\"fName\":\"xaxis\",\"fTitle\":\"\",\"fNdivisions\":510,\"fAxisColor\":1,\"fLabelColor\":1,\"fLabelFont\":42,\"fLabelOffset\":0.005,\"fLabelSize\":0.035,\"fTickLength\":0.03,\"fTitleOffset\":1,\"fTitleSize\":0.035,\"fTitleColor\":1,\"fTitleFont\":42,\"fNbins\":1500,\"fXmin\":0,\"fXmax\":1500,\"fXbins\":[],\"fFirst\":0,\"fLast\":0,\"fBits2\":0,\"fTimeDisplay\":false,\"fTimeFormat\":\"\",\"fLabels\":null,\"fModLabs\":null},\"fYaxis\":{\"_typename\":\"TAxis\",\"fUniqueID\":0,\"fBits\":50331648,\"fName\":\"yaxis\",\"fTitle\":\"\",\"fNdivisions\":510,\"fAxisColor\":1,\"fLabelColor\":1,\"fLabelFont\":42,\"fLabelOffset\":0.005,\"fLabelSize\":0.035,\"fTickLength\":0.03,\"fTitleOffset\":0,\"fTitleSize\":0.035,\"fTitleColor\":1,\"fTitleFont\":42,\"fNbins\":1,\"fXmin\":0,\"fXmax\":1,\"fXbins\":[],\"fFirst\":0,\"fLast\":0,\"fBits2\":0,\"fTimeDisplay\":false,\"fTimeFormat\":\"\",\"fLabels\":null,\"fModLabs\":null},\"fZaxis\":{\"_typename\":\"TAxis\",\"fUniqueID\":0,\"fBits\":50331648,\"fName\":\"zaxis\",\"fTitle\":\"\",\"fNdivisions\":510,\"fAxisColor\":1,\"fLabelColor\":1,\"fLabelFont\":42,\"fLabelOffset\":0.005,\"fLabelSize\":0.035,\"fTickLength\":0.03,\"fTitleOffset\":1,\"fTitleSize\":0.035,\"fTitleColor\":1,\"fTitleFont\":42,\"fNbins\":1,\"fXmin\":0,\"fXmax\":1,\"fXbins\":[],\"fFirst\":0,\"fLast\":0,\"fBits2\":0,\"fTimeDisplay\":false,\"fTimeFormat\":\"\",\"fLabels\":null,\"fModLabs\":null},\"fBarOffset\":0,\"fBarWidth\":1000,\"fEntries\":1940863,\"fTsumw\":1809303,\"fTsumw2\":1809303,\"fTsumwx\":1073131194.59424,\"fTsumwx2\":877794595241.26,\"fMaximum\":-1111,\"fMinimum\":-1111,\"fNormFactor\":0,\"fContour\":[],\"fSumw2\":[],\"fOption\":\"\",\"fFunctions\":{\"_typename\":\"TList\",\"name\":\"TList\",\"arr\":[],\"opt\":[]},\"fBufferSize\":0,\"fBuffer\":[],\"fBinStatErrOpt\":0,\"fStatOverflows\":2,\"fArray\":[0,0,0,0,0,0,0,1,0,0,0,0,0,0,0,0,0,0,0,0,0,0,1,0,0,4,12,12,45,48,73,97,116,188,209,183,200,231,232,247,235,259,272,287,264,326,330,295,301,357,378,399,460,445,562,609,628,764,828,870,925,1069,1048,1032,997,944,968,988,998,1018,1006,987,990,970,857,798,709,695,673,662,660,679,663,701,672,688,707,673,658,692,661,661,695,696,718,699,794,755,774,806,785,768,829,822,873,902,884,919,932,991,957,1005,987,1011,1084,1055,1173,1074,1184,1108,1174,1180,1170,1277,1190,1249,1259,1297,1358,1265,1437,1380,1325,1404,1472,1445,1430,1488,1477,1526,1627,1537,1567,1633,1693,1635,1589,1716,1667,1714,1761,1742,1811,1818,1804,1923,1867,1896,1857,1922,1937,1951,1933,1955,2019,2056,1995,2048,2066,2084,2066,2049,2133,2159,2068,2098,2172,2129,2090,2166,2209,2123,2202,2262,2353,2216,2347,2295,2294,2275,2259,2370,2327,2308,2328,2362,2431,2258,2379,2325,2402,2372,2330,2424,2418,2499,2365,2452,2386,2323,2404,2499,2425,2475,2420,2361,2380,2420,2391,2452,2415,2417,2491,2516,2417,2397,2352,2397,2308,2425,2427,2347,2318,2371,2378,2370,2392,2413,2347,2396,2330,2361,2237,2417,2328,2337,2420,2306,2294,2214,2413,2317,2283,2295,2334,2178,2293,2221,2193,2230,2211,2206,2209,2252,2305,2258,2183,2162,2257,2239,2183,2231,2226,2213,2170,2235,2183,2179,2170,2167,2197,2154,2159,2230,2159,2224,2200,2304,2275,2360,2309,2276,2154,2202,2150,2145,2120,2098,2169,2199,2155,2181,2067,2150,2113,2118,2094,2161,2074,2161,2139,2204,2137,2162,2155,2083,2075,2179,2047,2118,2188,2155,2219,2151,2190,2142,2167,2223,2157,2208,2195,2155,2107,2162,2149,2175,2107,2193,2234,2287,2164,2192,2287,2216,2203,2308,2233,2194,2184,2294,2293,2260,2289,2286,2280,2252,2265,2407,2416,2420,2545,2539,2551,2595,2570,2630,2678,2730,2770,2891,2765,2984,2908,2835,2876,2728,2689,2740,2708,2655,2706,2701,2659,2698,2512,2709,2559,2636,2451,2582,2552,2619,2544,2577,2726,2777,2786,2795,2796,2787,2793,2899,2823,2955,2930,3053,2996,3014,2997,3066,2934,2972,2987,2998,2982,3026,2879,2960,2928,2835,2752,2812,2666,2773,2758,2758,2788,2673,2654,2691,2658,2567,2639,2509,2579,2504,2493,2615,2537,2547,2567,2469,2528,2520,2439,2564,2490,2612,2423,2604,2547,2528,2492,2553,2683,2538,2618,2645,2554,2553,2512,2596,2449,2270,2129,2010,1795,1686,1671,1607,1601,1572,1549,1617,1526,1557,1510,1541,1579,1536,1538,1608,1547,1573,1632,1589,1539,1626,1603,1524,1510,1541,1512,1516,1474,1489,1418,1512,1455,1504,1581,1549,1554,1453,1510,1578,1448,1549,1586,1508,1591,1627,1507,1646,1620,1609,1621,1547,1553,1590,1554,1592,1592,1590,1547,1569,1600,1597,1540,1620,1540,1610,1622,1618,1500,1655,1560,1594,1648,1577,1569,1613,1529,1582,1528,1562,1600,1460,1591,1537,1537,1562,1614,1626,1573,1530,1658,1507,1652,1662,1520,1557,1572,1525,1628,1633,1649,1555,1590,1643,1659,1603,1639,1616,1677,1645,1621,1615,1643,1664,1619,1628,1582,1615,1628,1625,1608,1675,1714,1662,1670,1608,1583,1631,1678,1648,1677,1663,1585,1628,1611,1702,1673,1669,1677,1640,1635,1590,1594,1575,1607,1538,1589,1615,1598,1650,1517,1587,1535,1561,1542,1497,1669,1565,1597,1473,1495,1503,1494,1542,1456,1487,1467,1463,1500,1536,1531,1536,1492,1529,1467,1516,1446,1484,1511,1471,1479,1474,1435,1481,1468,1514,1477,1411,1455,1419,1439,1505,1408,1395,1248,1289,1258,1256,1190,1286,1286,1296,1233,1228,1258,1206,1289,1251,1199,1152,1186,1173,1213,1187,1166,1236,1241,1219,1259,1233,1167,1202,1210,1215,1204,1135,1181,1173,1180,1196,1195,1154,1201,1196,1161,1238,1141,1095,1124,1141,1143,1086,1089,1103,1130,1174,1108,1103,1084,1064,1058,1084,1131,1126,1111,1048,1169,1073,1026,1100,1127,1105,1098,1148,1080,1077,1097,1135,1039,1078,1116,1100,1036,1047,1090,1065,1079,1093,1060,1104,1038,1048,1097,1042,1074,1035,1086,1070,1013,1054,1047,1050,1070,1062,1094,985,1053,976,1103,1052,1054,1060,998,1049,1110,1095,1091,1092,1054,1051,1091,1096,1032,1039,1041,1082,1000,970,1028,1043,1053,986,1026,1039,1003,1001,1040,999,1028,1020,1024,1012,998,987,1034,1014,996,1004,949,967,1033,1047,1025,1056,1063,1071,1087,1122,1150,1072,1083,1046,1194,999,1022,1047,1002,972,984,967,950,983,1006,987,992,994,896,1011,974,976,983,979,970,933,946,1015,996,999,1057,1074,1025,1077,1059,1025,1062,1061,1022,1036,983,961,1005,955,964,934,1018,958,930,959,922,1004,923,925,979,931,917,935,979,937,916,945,911,929,948,934,926,937,993,947,940,910,959,968,936,950,931,918,881,933,866,882,932,836,901,860,881,881,792,855,839,851,850,850,877,850,851,866,887,902,908,810,921,875,893,895,856,793,829,875,805,882,869,842,900,792,864,833,833,867,827,820,798,881,818,842,774,826,797,786,821,788,836,809,786,814,797,831,823,849,800,792,774,817,794,817,813,834,801,848,801,832,868,804,788,835,834,822,868,870,843,866,854,865,857,832,806,853,790,771,793,878,753,821,754,766,797,778,823,793,798,763,743,773,760,774,773,750,712,728,709,761,720,701,763,730,763,759,773,744,749,685,719,777,742,772,758,759,738,757,751,789,740,761,722,760,728,717,747,754,751,714,723,781,757,757,752,823,701,730,721,708,777,719,799,749,709,717,772,684,713,732,747,794,753,760,711,786,789,739,754,753,728,740,724,716,719,732,727,694,722,745,738,741,709,710,727,727,691,717,730,741,726,744,698,745,717,727,709,759,733,705,749,757,702,746,721,705,712,731,698,739,674,674,686,760,699,666,682,672,673,671,653,661,667,663,642,646,669,674,646,679,712,699,694,726,729,689,738,765,792,734,725,705,733,661,663,659,704,653,689,674,647,652,631,663,669,680,641,636,625,629,571,670,624,641,599,578,611,607,633,607,620,641,626,652,584,641,642,610,606,630,574,639,652,661,611,609,640,579,611,595,639,593,635,663,615,638,584,597,599,596,601,593,603,617,599,628,604,610,595,628,558,599,611,570,608,561,593,643,592,652,569,594,632,636,634,672,643,641,657,644,617,670,616,576,634,572,592,602,555,561,551,602,565,549,556,585,549,592,587,534,540,557,536,573,547,619,515,540,557,551,548,590,582,573,575,575,618,619,586,598,580,541,563,560,582,576,583,571,557,603,585,577,531,584,567,622,602,575,531,552,590,598,579,616,608,630,612,606,629,647,681,689,753,828,849,949,895,1043,1078,1136,1150,1305,1392,1439,1515,1634,1729,1767,1948,1902,1936,1885,1975,1856,1787,1660,1459,1335,1233,1140,1015,867,888,784,765,709,634,561,567,562,564,539,525,527,507,539,479,487,466,514,530,505,504,519,460,471,484,465,476,452,453,452,462,430,445,430,407,401,424,459,460,444,409,422,437,404,386,400,486,444,427,428,396,414,429,399,435,360,387,425,406,426,368,394,439,422,407,441,424,373,415,431,377,400,397,450,398,392,392,391,369,414,403,383,402,438,353,392,419,379,377,382,393,439,372,423,380,365,397,372,362,381,403,374,368,408,382,397,409,380,380,393,400,400,372,385,350,368,375,392,372,358,371,374,403,391,372,414,405,369,377,390,422,382,341,346,407,369,390,390,356,379,346,372,390,366,355,359,383,342,348,373,352,354,362,326,327,349,384,342,312,353,328,340,351,371,348,331,371,311,346,376,355,363,320,131560]}],\"opt\":[\"\",\"\",\"same\"]},\"fExecs\":null,\"fName\":\"c1\",\"fTitle\":\"c1\",\"fNumPaletteColor\":0,\"fNextPaletteColor\":0,\"fDISPLAY\":\"$DISPLAY\",\"fDoubleBuffer\":0,\"fRetained\":true,\"fXsizeUser\":0,\"fYsizeUser\":0,\"fXsizeReal\":20,\"fYsizeReal\":14.28571,\"fWindowTopX\":0,\"fWindowTopY\":0,\"fWindowWidth\":0,\"fWindowHeight\":0,\"fCw\":696,\"fCh\":472,\"fCatt\":{\"_typename\":\"TAttCanvas\",\"fXBetween\":2,\"fYBetween\":2,\"fTitleFromTop\":1.2,\"fXdate\":0.2,\"fYdate\":0.3,\"fAdate\":1},\"kMoveOpaque\":true,\"kResizeOpaque\":true,\"fHighLightColor\":2,\"fBatch\":true,\"kShowEventStatus\":false,\"kAutoExec\":true,\"kMenuBar\":true});\n",
       "       Core.draw(\"root_plot_1\", obj, \"\");\n",
       "     }\n",
       " );\n",
       "</script>\n"
      ],
      "text/plain": [
       "<IPython.core.display.HTML object>"
      ]
     },
     "metadata": {},
     "output_type": "display_data"
    }
   ],
   "source": [
    "Me->Draw();\n",
    "Li->SetLineColor(kRed);\n",
    "Li->Draw(\"same\");\n",
    "c1->Draw();"
   ]
  },
  {
   "cell_type": "code",
   "execution_count": null,
   "metadata": {},
   "outputs": [],
   "source": []
  }
 ],
 "metadata": {
  "kernelspec": {
   "display_name": "ROOT C++",
   "language": "c++",
   "name": "root"
  },
  "language_info": {
   "codemirror_mode": "text/x-c++src",
   "file_extension": ".C",
   "mimetype": " text/x-c++src",
   "name": "c++"
  }
 },
 "nbformat": 4,
 "nbformat_minor": 2
}
